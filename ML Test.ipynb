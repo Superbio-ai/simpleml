{
 "cells": [
  {
   "cell_type": "code",
   "execution_count": 1,
   "id": "213fe728",
   "metadata": {},
   "outputs": [],
   "source": [
    "from ml_functions import *"
   ]
  },
  {
   "cell_type": "code",
   "execution_count": null,
   "id": "eb02dc87",
   "metadata": {},
   "outputs": [],
   "source": [
    "1. get data\n",
    "2. check inputs\n",
    "3. run pipelines"
   ]
  },
  {
   "cell_type": "code",
   "execution_count": 2,
   "id": "f3c633e2",
   "metadata": {},
   "outputs": [],
   "source": [
    "df = pd.read_csv('D:/datasets/test_data.csv')\n",
    "problem_type = 'regression'\n",
    "model_type = 'random_forest'\n",
    "predictors = list(df.columns)[6:]\n",
    "target = 'Target'\n",
    "train_test_ratio = 0.7\n",
    "missing_treatment = 'drop'"
   ]
  },
  {
   "cell_type": "code",
   "execution_count": 3,
   "id": "c3473313",
   "metadata": {},
   "outputs": [
    {
     "name": "stdout",
     "output_type": "stream",
     "text": [
      "['High_8', 'Low_8', 'Price_8', 'High_28', 'Low_28', 'Price_28', 'High_56', 'Low_56', 'Price_56', 'High_84', 'Low_84', 'Price_84', 'High_112', 'Low_112', 'Price_112', 'High_140', 'Low_140', 'Price_140', 'High_168', 'Low_168', 'Price_168', 'High_224', 'Low_224', 'Price_224', 'High_336', 'Low_336', 'Price_336', 'High_448', 'Low_448', 'Price_448', 'High_672', 'Low_672', 'Price_672', 'High_976', 'Low_976', 'Price_976', 'High_1440', 'Low_1440', 'Price_1440', 'High_1920', 'Low_1920', 'Price_1920', 'High_2400', 'Low_2400', 'Price_2400', 'High_2880', 'Low_2880', 'Price_2880']\n"
     ]
    }
   ],
   "source": [
    "print(predictors)"
   ]
  },
  {
   "cell_type": "code",
   "execution_count": 5,
   "id": "17261d61",
   "metadata": {},
   "outputs": [],
   "source": [
    "check_inputs(problem_type, model_type, predictors, target, train_test_ratio, missing_treatment, df)"
   ]
  },
  {
   "cell_type": "code",
   "execution_count": 6,
   "id": "3e463b9a",
   "metadata": {},
   "outputs": [
    {
     "name": "stderr",
     "output_type": "stream",
     "text": [
      "D:\\Git\\simple_ml\\ml_functions.py:74: SettingWithCopyWarning: \n",
      "A value is trying to be set on a copy of a slice from a DataFrame\n",
      "\n",
      "See the caveats in the documentation: https://pandas.pydata.org/pandas-docs/stable/user_guide/indexing.html#returning-a-view-versus-a-copy\n",
      "  elif missing_treatment == 'drop':\n"
     ]
    }
   ],
   "source": [
    "cv_score = run_simple_pipelines(df, problem_type, model_type, predictors, target, train_test_ratio, missing_treatment = 'drop')"
   ]
  },
  {
   "cell_type": "code",
   "execution_count": 10,
   "id": "0509ab6f",
   "metadata": {},
   "outputs": [
    {
     "data": {
      "text/plain": [
       "fit_time       2.421572\n",
       "score_time     0.013271\n",
       "test_score     0.964724\n",
       "train_score    0.996930\n",
       "dtype: float64"
      ]
     },
     "execution_count": 10,
     "metadata": {},
     "output_type": "execute_result"
    }
   ],
   "source": [
    "cv_score.mean()"
   ]
  },
  {
   "cell_type": "markdown",
   "id": "78e3d66b",
   "metadata": {},
   "source": [
    "### Docker SDK Usage"
   ]
  },
  {
   "cell_type": "code",
   "execution_count": 15,
   "id": "c689be79",
   "metadata": {},
   "outputs": [],
   "source": [
    "import requests\n",
    "import tarfile\n",
    "import docker\n",
    "import os\n",
    "import boto3\n",
    "from io import BytesIO\n",
    "import csv\n",
    "import pandas as pd\n",
    "client = docker.from_env()\n",
    "#client_url = docker.DockerClient(base_url='tcp://0.0.0.0:7999')"
   ]
  },
  {
   "cell_type": "code",
   "execution_count": null,
   "id": "b8fdd8f7",
   "metadata": {},
   "outputs": [],
   "source": [
    "#Data functions\n",
    "1. List directory contents\n",
    "2. Make directory (if does not exist)\n",
    "3. Send a file\n",
    "4. Retrieve a file\n",
    "#Run script functions\n",
    "1. Run a script\n",
    "2. \n",
    "#Testing\n",
    "1. get working locally\n",
    "2. check how works remotely"
   ]
  },
  {
   "cell_type": "code",
   "execution_count": 2,
   "id": "1d113398",
   "metadata": {},
   "outputs": [],
   "source": [
    "def print_archive(cont_name, folder_name = ''):\n",
    "    container = client.containers.get(cont_name)\n",
    "    cmd = f\"ls /{folder_name}\"\n",
    "    exec_log = container.exec_run(cmd, stdout=True, stderr=True, stream=True)\n",
    "    for line in exec_log[1]:\n",
    "        print(line.decode(\"utf-8\"))   "
   ]
  },
  {
   "cell_type": "code",
   "execution_count": 3,
   "id": "dad1dc6d",
   "metadata": {},
   "outputs": [],
   "source": [
    "def make_archive(cont_name, folder_name):\n",
    "    container = client.containers.get(cont_name)\n",
    "    cmd = f\"mkdir /{folder_name}\"\n",
    "    exec_log = container.exec_run(cmd, stdout=True, stderr=True, stream=True)\n",
    "    for line in exec_log[1]:\n",
    "        print(line.decode(\"utf-8\"))   "
   ]
  },
  {
   "cell_type": "code",
   "execution_count": 10,
   "id": "cb7fe3f5",
   "metadata": {},
   "outputs": [],
   "source": [
    "def copy_to(src, cont_name, dst):\n",
    "    container = client.containers.get(cont_name)\n",
    "\n",
    "    os.chdir(os.path.dirname(src))\n",
    "    srcname = os.path.basename(src)\n",
    "    tar = tarfile.open(src + '.tar', mode='w')\n",
    "    try:\n",
    "        tar.add(srcname)\n",
    "    finally:\n",
    "        tar.close()\n",
    "\n",
    "    data = open(src + '.tar', 'rb').read()\n",
    "    if len(dst)>0:\n",
    "        dst = '/'+dst+'/'\n",
    "    else:\n",
    "        dst = '/'\n",
    "    container.put_archive(os.path.dirname(dst), data)"
   ]
  },
  {
   "cell_type": "code",
   "execution_count": 5,
   "id": "e8f2ab3c",
   "metadata": {},
   "outputs": [],
   "source": [
    "def copy_from(src):\n",
    "    name, src = src.split(':')\n",
    "    container = client.containers.get(name)\n",
    "\n",
    "    # Get the file archive from the container\n",
    "    stream, stat = container.get_archive(src)\n",
    "    \n",
    "    # Write the stream to a file object\n",
    "    file_obj = BytesIO()\n",
    "    for chunk in stream:\n",
    "        file_obj.write(chunk)\n",
    "    file_obj.seek(0)\n",
    "    \n",
    "    #for dataframes only\n",
    "    df = pd.read_csv(file_obj)\n",
    "    \n",
    "    #tar = tarfile.open(mode='r', fileobj=file_obj)\n",
    "    #text = tar.extractfile('results.csv')\n",
    "    #q = text.read()\n",
    "    #print(q)\n",
    "    \n",
    "    return df"
   ]
  },
  {
   "cell_type": "markdown",
   "id": "3af27074",
   "metadata": {},
   "source": [
    "### ML Pipeline"
   ]
  },
  {
   "cell_type": "markdown",
   "id": "2d2d174b",
   "metadata": {},
   "source": [
    "##### Run a script with defaults"
   ]
  },
  {
   "cell_type": "code",
   "execution_count": 12,
   "id": "b5170b63",
   "metadata": {
    "scrolled": true
   },
   "outputs": [
    {
     "name": "stdout",
     "output_type": "stream",
     "text": [
      "mkdir: cannot create directory ‘/data’: File exists\n",
      "\n",
      "test_data.csv\n",
      "\n"
     ]
    }
   ],
   "source": [
    "image_name = 'jolly_grothendieck'\n",
    "make_archive(image_name, 'data')\n",
    "copy_to('D:/datasets/test_data.csv', image_name, '')\n",
    "print_archive(image_name,'data')"
   ]
  },
  {
   "cell_type": "code",
   "execution_count": 8,
   "id": "c1ef6448",
   "metadata": {},
   "outputs": [
    {
     "name": "stdout",
     "output_type": "stream",
     "text": [
      "eff09f67a94146bfd9d8f70a0499f5c516359d8357d7fafd7f13f1416a3e4d18\n"
     ]
    }
   ],
   "source": [
    "containers = client.containers.list(all=True)\n",
    "for container in containers:\n",
    "    if container.name == image_name:\n",
    "        image_id = container.id\n",
    "        break\n",
    "print(image_id)"
   ]
  },
  {
   "cell_type": "code",
   "execution_count": 13,
   "id": "2631cb52",
   "metadata": {},
   "outputs": [
    {
     "name": "stdout",
     "output_type": "stream",
     "text": [
      "/ml_functions.py:74: SettingWithCopyWarning: \n",
      "A value is trying to be set on a copy of a slice from a DataFrame\n",
      "\n",
      "See the caveats in the documentation: https://pandas.pydata.org/pandas-docs/stable/user_guide/indexing.html#returning-a-view-versus-a-copy\n",
      "  input_df.dropna(inplace=True)\n",
      "\n"
     ]
    }
   ],
   "source": [
    "script_path = 'run_ml_docker.py'\n",
    "exec_id = client.api.exec_create(image_id, 'python /' + script_path)['Id']\n",
    "output = client.api.exec_start(exec_id)\n",
    "print(output.decode('utf-8'))"
   ]
  },
  {
   "cell_type": "code",
   "execution_count": 16,
   "id": "51c737b9",
   "metadata": {},
   "outputs": [
    {
     "name": "stdout",
     "output_type": "stream",
     "text": [
      "   results.csv         0\n",
      "0     fit_time  4.008197\n",
      "1   score_time  0.009502\n",
      "2   test_score  0.965193\n",
      "3  train_score  0.996835\n",
      "4          NaN       NaN\n"
     ]
    }
   ],
   "source": [
    "src = image_name + ':/results.csv'\n",
    "temp_df = copy_from(src)\n",
    "print(temp_df)"
   ]
  },
  {
   "cell_type": "markdown",
   "id": "fbd530ef",
   "metadata": {},
   "source": [
    "##### Run a script with argparse"
   ]
  },
  {
   "cell_type": "code",
   "execution_count": 32,
   "id": "46e4e758",
   "metadata": {},
   "outputs": [],
   "source": [
    "temp = pd.read_csv('D:/datasets/test_data.csv')\n",
    "predictors = ','.join(list(temp.columns)[6:])"
   ]
  },
  {
   "cell_type": "code",
   "execution_count": 33,
   "id": "6512175f",
   "metadata": {},
   "outputs": [],
   "source": [
    "parameters = {\n",
    "    'file':'data/test_data.csv',\n",
    "    'problem_type':'regression',\n",
    "    'model_type':'random_forest',\n",
    "    'predictors':predictors,\n",
    "    'target':'Target',\n",
    "    'train_test_ratio':0.8,\n",
    "    'missing_treatment':'drop'\n",
    "}"
   ]
  },
  {
   "cell_type": "code",
   "execution_count": 35,
   "id": "a11d3016",
   "metadata": {
    "scrolled": false
   },
   "outputs": [
    {
     "name": "stdout",
     "output_type": "stream",
     "text": [
      "test_data.csv\n",
      "\n"
     ]
    }
   ],
   "source": [
    "image_name = 'adoring_bassi'\n",
    "make_archive(image_name, 'data')\n",
    "copy_to('D:/datasets/test_data.csv', image_name, 'data')\n",
    "print_archive(image_name,'data')"
   ]
  },
  {
   "cell_type": "code",
   "execution_count": 36,
   "id": "a56b66f2",
   "metadata": {},
   "outputs": [
    {
     "name": "stdout",
     "output_type": "stream",
     "text": [
      "b1f6b1761ab5eacbe1aa3fa7a811c839d11c9d0ac965e1fc5b4f99173a2ac95e\n"
     ]
    }
   ],
   "source": [
    "containers = client.containers.list(all=True)\n",
    "for container in containers:\n",
    "    if container.name == image_name:\n",
    "        image_id = container.id\n",
    "        break\n",
    "print(image_id)"
   ]
  },
  {
   "cell_type": "code",
   "execution_count": 37,
   "id": "441ee033",
   "metadata": {},
   "outputs": [
    {
     "name": "stdout",
     "output_type": "stream",
     "text": [
      "['python', 'run_ml_docker.py', '--file', 'data/test_data.csv', '--problem_type', 'regression', '--model_type', 'random_forest', '--predictors', 'High_8,Low_8,Price_8,High_28,Low_28,Price_28,High_56,Low_56,Price_56,High_84,Low_84,Price_84,High_112,Low_112,Price_112,High_140,Low_140,Price_140,High_168,Low_168,Price_168,High_224,Low_224,Price_224,High_336,Low_336,Price_336,High_448,Low_448,Price_448,High_672,Low_672,Price_672,High_976,Low_976,Price_976,High_1440,Low_1440,Price_1440,High_1920,Low_1920,Price_1920,High_2400,Low_2400,Price_2400,High_2880,Low_2880,Price_2880', '--target', 'Target', '--train_test_ratio', '0.8', '--missing_treatment', 'drop']\n"
     ]
    }
   ],
   "source": [
    "script_path = 'run_ml_docker.py'\n",
    "cmd_list = ['python', script_path]\n",
    "for key, value in parameters.items():\n",
    "    cmd_list.append(\"--\" + key)\n",
    "    cmd_list.append(str(value))\n",
    "print(cmd_list)"
   ]
  },
  {
   "cell_type": "code",
   "execution_count": 38,
   "id": "06ae871d",
   "metadata": {},
   "outputs": [
    {
     "name": "stdout",
     "output_type": "stream",
     "text": [
      "/ml_functions.py:74: SettingWithCopyWarning: \n",
      "A value is trying to be set on a copy of a slice from a DataFrame\n",
      "\n",
      "See the caveats in the documentation: https://pandas.pydata.org/pandas-docs/stable/user_guide/indexing.html#returning-a-view-versus-a-copy\n",
      "  input_df.dropna(inplace=True)\n",
      "\n"
     ]
    }
   ],
   "source": [
    "exec_id = client.api.exec_create(image_id, cmd_list)['Id']\n",
    "output = client.api.exec_start(exec_id)\n",
    "print(output.decode('utf-8'))"
   ]
  },
  {
   "cell_type": "code",
   "execution_count": 39,
   "id": "aab4ca13",
   "metadata": {},
   "outputs": [
    {
     "name": "stdout",
     "output_type": "stream",
     "text": [
      "   results.csv         0\n",
      "0     fit_time  4.813202\n",
      "1   score_time  0.010969\n",
      "2   test_score  0.978155\n",
      "3  train_score  0.996694\n",
      "4          NaN       NaN\n"
     ]
    }
   ],
   "source": [
    "src = image_name + ':/results.csv'\n",
    "temp_df = copy_from(src)\n",
    "print(temp_df)"
   ]
  },
  {
   "cell_type": "code",
   "execution_count": null,
   "id": "1d4d50de",
   "metadata": {},
   "outputs": [],
   "source": []
  },
  {
   "cell_type": "code",
   "execution_count": null,
   "id": "0454936c",
   "metadata": {},
   "outputs": [],
   "source": []
  },
  {
   "cell_type": "code",
   "execution_count": null,
   "id": "0a47c3e2",
   "metadata": {},
   "outputs": [],
   "source": []
  },
  {
   "cell_type": "markdown",
   "id": "ebb527ea",
   "metadata": {},
   "source": [
    "### MegaMolBart"
   ]
  },
  {
   "cell_type": "code",
   "execution_count": 18,
   "id": "4dbf7859",
   "metadata": {},
   "outputs": [],
   "source": [
    "image_name = 'clever_turing'"
   ]
  },
  {
   "cell_type": "code",
   "execution_count": 20,
   "id": "14e134da",
   "metadata": {},
   "outputs": [
    {
     "name": "stdout",
     "output_type": "stream",
     "text": [
      "sample.txt\n",
      "\n"
     ]
    }
   ],
   "source": [
    "make_archive(image_name, 'data')\n",
    "copy_to('D:/datasets/megamolbart/sample.txt', image_name, 'data')\n",
    "print_archive(image_name,'data')"
   ]
  },
  {
   "cell_type": "code",
   "execution_count": 21,
   "id": "c98a3d95",
   "metadata": {},
   "outputs": [],
   "source": [
    "config = {\n",
    "    'config-path':'conf',\n",
    "    'config-name':'megamolbart_pretrain_xsmall_span_aug'\n",
    "}"
   ]
  },
  {
   "cell_type": "code",
   "execution_count": 22,
   "id": "9292a26a",
   "metadata": {},
   "outputs": [
    {
     "name": "stdout",
     "output_type": "stream",
     "text": [
      "chem\n",
      "\n"
     ]
    }
   ],
   "source": [
    "make_archive(image_name, 'scripts')\n",
    "copy_to('D:/Git/MegaMolBART/examples/chem', image_name, 'scripts')\n",
    "print_archive(image_name,'scripts')"
   ]
  },
  {
   "cell_type": "code",
   "execution_count": 23,
   "id": "7cb5e425",
   "metadata": {},
   "outputs": [
    {
     "name": "stdout",
     "output_type": "stream",
     "text": [
      "[NeMo W 2023-12-01 15:55:20 experimental:27] Module <class 'nemo.collections.nlp.data.language_modeling.megatron.megatron_batch_samplers.MegatronPretrainingRandomBatchSampler'> is experimental, not ready for production and is not fully supported. Use at your own risk.\n",
      "[NeMo W 2023-12-01 15:55:20 experimental:27] Module <class 'nemo.collections.nlp.models.text_normalization_as_tagging.thutmose_tagger.ThutmoseTaggerModel'> is experimental, not ready for production and is not fully supported. Use at your own risk.\n",
      "[NeMo W 2023-12-01 15:55:20 nemo_logging:349] /opt/conda/lib/python3.8/site-packages/hydra/_internal/defaults_list.py:251: UserWarning: In 'megamolbart_pretrain_xsmall_span_aug': Defaults list is missing `_self_`. See https://hydra.cc/docs/upgrades/1.0_to_1.1/default_composition_order for more information\n",
      "      warnings.warn(msg, UserWarning)\n",
      "    \n",
      "[NeMo I 2023-12-01 15:55:21 megamolbart_pretrain:97] \n",
      "    \n",
      "    ************** Experiment configuration ***********\n",
      "[NeMo I 2023-12-01 15:55:21 megamolbart_pretrain:98] \n",
      "    name: MegaMolBART\n",
      "    do_training: true\n",
      "    do_testing: false\n",
      "    seed: 42\n",
      "    restore_from_path: null\n",
      "    trainer:\n",
      "      devices: 1\n",
      "      num_nodes: 1\n",
      "      precision: 16\n",
      "      accelerator: gpu\n",
      "      max_epochs: null\n",
      "      max_steps: 2000000\n",
      "      log_every_n_steps: 100\n",
      "      val_check_interval: 10000\n",
      "      num_sanity_val_steps: 2\n",
      "      limit_val_batches: 200\n",
      "      limit_test_batches: 0\n",
      "      accumulate_grad_batches: 1\n",
      "      gradient_clip_val: 1.0\n",
      "      logger: false\n",
      "      enable_checkpointing: false\n",
      "      replace_sampler_ddp: false\n",
      "    model:\n",
      "      name: xsmall_span_aug\n",
      "      global_batch_size: 32\n",
      "      micro_batch_size: 32\n",
      "      tensor_model_parallel_size: 1\n",
      "      pipeline_model_parallel_size: 1\n",
      "      resume_from_checkpoint: null\n",
      "      pipeline_model_parallel_split_rank: 0\n",
      "      make_vocab_size_divisible_by: 128\n",
      "      pre_process: true\n",
      "      post_process: true\n",
      "      megatron_amp_O2: false\n",
      "      seq_length: 512\n",
      "      max_position_embeddings: ${.seq_length}\n",
      "      num_layers: 2\n",
      "      hidden_size: 256\n",
      "      ffn_hidden_size: ${multiply:${model.hidden_size}, 4}\n",
      "      num_attention_heads: 4\n",
      "      init_method_std: 0.02\n",
      "      hidden_dropout: 0.1\n",
      "      attention_dropout: 0.1\n",
      "      kv_channels: null\n",
      "      apply_query_key_layer_scaling: true\n",
      "      layernorm_epsilon: 1.0e-05\n",
      "      persist_layer_norm: true\n",
      "      gradient_as_bucket_view: true\n",
      "      bias_gelu_fusion: true\n",
      "      masked_softmax_fusion: true\n",
      "      bias_dropout_add_fusion: true\n",
      "      bias: true\n",
      "      normalization: layernorm\n",
      "      encoder_arch: transformer\n",
      "      decoder_arch: transformer\n",
      "      activation: gelu\n",
      "      headscale: false\n",
      "      share_word_embeddings: true\n",
      "      share_decoder_tokens_head_embeddings: false\n",
      "      tokenizer:\n",
      "        library: regex\n",
      "        type: null\n",
      "        model: /workspace/nemo_chem/models/vocab/megamolbart.model\n",
      "        vocab_file: /workspace/nemo_chem/models/vocab/megamolbart.vocab\n",
      "        merge_file: null\n",
      "      data:\n",
      "        dataset_path: /data/zinc_csv_split\n",
      "        dataset:\n",
      "          train: x[000..146]\n",
      "          test: x[000..146]\n",
      "          val: x000\n",
      "        newline_int: 10\n",
      "        header_lines: 1\n",
      "        data_col: 1\n",
      "        data_sep: ','\n",
      "        sort_dataset_paths: true\n",
      "        skip_lines: 0\n",
      "        micro_batch_size: 32\n",
      "        encoder_augment: true\n",
      "        encoder_mask: true\n",
      "        decoder_augment: true\n",
      "        decoder_mask: false\n",
      "        canonicalize_input: true\n",
      "        dataloader_type: single\n",
      "        drop_last: false\n",
      "        pin_memory: false\n",
      "        num_workers: 10\n",
      "        links_file: /workspace/nemo_chem/examples/chem/conf/dataset/ZINC-downloader-test.txt\n",
      "        mask_scheme: span\n",
      "        mask_prob: 0.1\n",
      "        span_lambda: 3.0\n",
      "        num_enumerations: 5\n",
      "        dataset_format: csv\n",
      "      optim:\n",
      "        name: fused_adam\n",
      "        lr: 1.0\n",
      "        betas:\n",
      "        - 0.9\n",
      "        - 0.999\n",
      "        eps: 1.0e-08\n",
      "        weight_decay: 0.01\n",
      "        sched:\n",
      "          name: NoamAnnealing\n",
      "          d_model: ${model.hidden_size}\n",
      "          warmup_steps: 8000\n",
      "          warmup_ratio: null\n",
      "          max_steps: 1000000\n",
      "          min_lr: 1.0e-05\n",
      "    exp_manager:\n",
      "      name: ${name}\n",
      "      resume_if_exists: true\n",
      "      resume_ignore_no_checkpoint: true\n",
      "      create_checkpoint_callback: true\n",
      "      checkpoint_callback_params:\n",
      "        save_top_k: 3\n",
      "        monitor: val_molecular_accuracy\n",
      "        mode: max\n",
      "        save_last: true\n",
      "        always_save_nemo: true\n",
      "        filename: ${name}-${model.name}--{val_molecular_accuracy:.2f}-{val_reduced_loss:.2f}-{step}-{consumed_samples}\n",
      "        model_parallel_size: ${multiply:${model.tensor_model_parallel_size}, ${model.pipeline_model_parallel_size}}\n",
      "      exp_dir: /result/nemo_experiments/${.name}/${.wandb_logger_kwargs.name}\n",
      "      explicit_log_dir: ${.exp_dir}\n",
      "      create_wandb_logger: true\n",
      "      create_tensorboard_logger: true\n",
      "      wandb_logger_kwargs:\n",
      "        project: ${model.name}_pretraining\n",
      "        name: ${model.name}_pretraining\n",
      "        group: ${model.name}\n",
      "        job_type: Localhost_nodes_${trainer.num_nodes}_gpus_${trainer.devices}\n",
      "        notes: 'date: ${now:%y%m%d-%H%M%S}'\n",
      "        tags:\n",
      "        - ${name}\n",
      "        - ${model.name}\n",
      "        offline: false\n",
      "    \n",
      "[NeMo W 2023-12-01 15:55:21 nemo_logging:349] /opt/conda/lib/python3.8/site-packages/pytorch_lightning/plugins/training_type/ddp.py:20: LightningDeprecationWarning: The `pl.plugins.training_type.ddp.DDPPlugin` is deprecated in v1.6 and will be removed in v1.8. Use `pl.strategies.ddp.DDPStrategy` instead.\n",
      "      rank_zero_deprecation(\n",
      "    \n",
      "[NeMo W 2023-12-01 15:55:21 nemo_logging:349] /opt/conda/lib/python3.8/site-packages/pytorch_lightning/trainer/connectors/accelerator_connector.py:317: LightningDeprecationWarning: Passing <nemo.collections.nlp.parts.nlp_overrides.NLPDDPPlugin object at 0x7fdb613f6d30> `strategy` to the `plugins` flag in Trainer has been deprecated in v1.5 and will be removed in v1.7. Use `Trainer(strategy=<nemo.collections.nlp.parts.nlp_overrides.NLPDDPPlugin object at 0x7fdb613f6d30>)` instead.\n",
      "      rank_zero_deprecation(\n",
      "    \n",
      "Trainer already configured with model summary callbacks: [<class 'pytorch_lightning.callbacks.model_summary.ModelSummary'>]. Skipping setting a default `ModelSummary` callback.\n",
      "GPU available: True, used: True\n",
      "TPU available: False, using: 0 TPU cores\n",
      "IPU available: False, using: 0 IPUs\n",
      "HPU available: False, using: 0 HPUs\n",
      "[NeMo E 2023-12-01 15:55:21 exp_manager:500] exp_manager received explicit_log_dir: /result/nemo_experiments/MegaMolBART/xsmall_span_aug_pretraining and at least one of exp_dir: /result/nemo_experiments/MegaMolBART/xsmall_span_aug_pretraining, or version: None. Please note that exp_dir, name, and version will be ignored.\n",
      "[NeMo W 2023-12-01 15:55:21 exp_manager:422] There was no checkpoint folder at checkpoint_dir :/result/nemo_experiments/MegaMolBART/xsmall_span_aug_pretraining/checkpoints. Training from scratch.\n",
      "[NeMo I 2023-12-01 15:55:21 exp_manager:286] Experiments will be logged at /result/nemo_experiments/MegaMolBART/xsmall_span_aug_pretraining\n",
      "[NeMo I 2023-12-01 15:55:21 exp_manager:660] TensorboardLogger has been set up\n",
      "wandb: ERROR api_key not configured (no-tty). call wandb.login(key=[your_api_key])\n",
      "Error executing job with overrides: []\n",
      "Traceback (most recent call last):\n",
      "  File \"/scripts/chem/megamolbart_pretrain.py\", line 100, in main\n",
      "    trainer = setup_trainer(cfg)\n",
      "  File \"/scripts/chem/megamolbart_pretrain.py\", line 68, in setup_trainer\n",
      "    exp_manager(trainer, cfg.get(\"exp_manager\", None))\n",
      "  File \"/opt/conda/lib/python3.8/site-packages/nemo/utils/exp_manager.py\", line 314, in exp_manager\n",
      "    configure_loggers(\n",
      "  File \"/opt/conda/lib/python3.8/site-packages/nemo/utils/exp_manager.py\", line 672, in configure_loggers\n",
      "    wandb_logger = WandbLogger(version=version, **wandb_kwargs)\n",
      "  File \"/opt/conda/lib/python3.8/site-packages/pytorch_lightning/loggers/wandb.py\", line 311, in __init__\n",
      "    _ = self.experiment\n",
      "  File \"/opt/conda/lib/python3.8/site-packages/pytorch_lightning/loggers/base.py\", line 41, in experiment\n",
      "    return get_experiment() or DummyExperiment()\n",
      "  File \"/opt/conda/lib/python3.8/site-packages/pytorch_lightning/utilities/rank_zero.py\", line 32, in wrapped_fn\n",
      "    return fn(*args, **kwargs)\n",
      "  File \"/opt/conda/lib/python3.8/site-packages/pytorch_lightning/loggers/base.py\", line 39, in get_experiment\n",
      "    return fn(self)\n",
      "  File \"/opt/conda/lib/python3.8/site-packages/pytorch_lightning/loggers/wandb.py\", line 357, in experiment\n",
      "    self._experiment = wandb.init(**self._wandb_init)\n",
      "  File \"/opt/conda/lib/python3.8/site-packages/wandb/sdk/wandb_init.py\", line 1040, in init\n",
      "    wi.setup(kwargs)\n",
      "  File \"/opt/conda/lib/python3.8/site-packages/wandb/sdk/wandb_init.py\", line 259, in setup\n",
      "    wandb_login._login(\n",
      "  File \"/opt/conda/lib/python3.8/site-packages/wandb/sdk/wandb_login.py\", line 297, in _login\n",
      "    wlogin.prompt_api_key()\n",
      "  File \"/opt/conda/lib/python3.8/site-packages/wandb/sdk/wandb_login.py\", line 227, in prompt_api_key\n",
      "    raise UsageError(\"api_key not configured (no-tty). call \" + directive)\n",
      "wandb.errors.UsageError: api_key not configured (no-tty). call wandb.login(key=[your_api_key])\n",
      "\n",
      "Set the environment variable HYDRA_FULL_ERROR=1 for a complete stack trace.\n",
      "\n"
     ]
    }
   ],
   "source": [
    "container_id = \"30e3c7e302ef0bf66d09ab8bb931f77ececdd6fa0e27ddbe52f313da583e4c43\"\n",
    "script_loc = '/scripts/chem/megamolbart_pretrain.py'\n",
    "cmd_list = ['python', script_loc]\n",
    "for key, value in config.items():\n",
    "    cmd_list.append(\"--\" + key)\n",
    "    cmd_list.append(str(value))\n",
    "#for key, value in config['input_files'].items():\n",
    "#    cmd_list.append(\"--\" + key)\n",
    "#    cmd_list.append(str(value))\n",
    "exec_id = client.api.exec_create(container_id, cmd = cmd_list)['Id']\n",
    "output = client.api.exec_start(exec_id)\n",
    "print(output.decode('utf-8'))"
   ]
  },
  {
   "cell_type": "code",
   "execution_count": 89,
   "id": "2771bdeb",
   "metadata": {},
   "outputs": [
    {
     "name": "stdout",
     "output_type": "stream",
     "text": [
      "asr\n",
      "cv\n",
      "nlp\n",
      "speaker_tasks\n",
      "text_processing\n",
      "tts\n",
      "\n"
     ]
    }
   ],
   "source": [
    "print_archive(image_name,'workspace/nemo/examples')"
   ]
  },
  {
   "cell_type": "code",
   "execution_count": 94,
   "id": "1ec7860e",
   "metadata": {
    "collapsed": true
   },
   "outputs": [
    {
     "name": "stdout",
     "output_type": "stream",
     "text": [
      "bin\n",
      "boot\n",
      "data\n",
      "data2\n",
      "dev\n",
      "etc\n",
      "home\n",
      "lib\n",
      "lib32\n",
      "lib64\n",
      "libx32\n",
      "media\n",
      "mnt\n",
      "models\n",
      "nvidia\n",
      "opt\n",
      "proc\n",
      "rapids\n",
      "root\n",
      "run\n",
      "sample.txt\n",
      "sample2.txt\n",
      "sbin\n",
      "scripts\n",
      "srv\n",
      "sys\n",
      "tmp\n",
      "usr\n",
      "var\n",
      "workspace\n",
      "\n"
     ]
    }
   ],
   "source": [
    "print_archive(image_name,'')"
   ]
  },
  {
   "cell_type": "code",
   "execution_count": null,
   "id": "920cdf44",
   "metadata": {},
   "outputs": [],
   "source": [
    "python megamolbart_pretrain.py \\\n",
    "--config-path=conf \\\n",
    "--config-name=megamolbart_pretrain_xsmall_span_aug \\\n",
    "++do_training=False \\\n",
    "++do_testing=False"
   ]
  },
  {
   "cell_type": "markdown",
   "id": "1852c778",
   "metadata": {},
   "source": [
    "### AWS ECR"
   ]
  },
  {
   "cell_type": "code",
   "execution_count": 80,
   "id": "68097b23",
   "metadata": {},
   "outputs": [],
   "source": [
    "import boto3\n",
    "import docker\n",
    "\n",
    "session = boto3.Session(profile_name='default')\n",
    "ecr = boto3.client('ecr')\n",
    "client = docker.from_env()"
   ]
  },
  {
   "cell_type": "code",
   "execution_count": 81,
   "id": "ec39c7ac",
   "metadata": {},
   "outputs": [
    {
     "data": {
      "text/plain": [
       "{'authorizationToken': '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',\n",
       " 'expiresAt': datetime.datetime(2023, 12, 6, 3, 42, 47, 11000, tzinfo=tzlocal()),\n",
       " 'proxyEndpoint': 'https://221497708189.dkr.ecr.us-west-2.amazonaws.com'}"
      ]
     },
     "execution_count": 81,
     "metadata": {},
     "output_type": "execute_result"
    }
   ],
   "source": [
    "auth_token['authorizationData'][0]"
   ]
  },
  {
   "cell_type": "code",
   "execution_count": 82,
   "id": "bc5f970e",
   "metadata": {
    "collapsed": true
   },
   "outputs": [
    {
     "ename": "APIError",
     "evalue": "500 Server Error for http+docker://localnpipe/v1.41/auth: Internal Server Error (\"login attempt to https://221497708189.dkr.ecr.us-west-2.amazonaws.com/v2/ failed with status: 400 Bad Request\")",
     "output_type": "error",
     "traceback": [
      "\u001b[1;31m---------------------------------------------------------------------------\u001b[0m",
      "\u001b[1;31mHTTPError\u001b[0m                                 Traceback (most recent call last)",
      "\u001b[1;32m~\\AppData\\Roaming\\Python\\Python38\\site-packages\\docker\\api\\client.py\u001b[0m in \u001b[0;36m_raise_for_status\u001b[1;34m(self, response)\u001b[0m\n\u001b[0;32m    267\u001b[0m         \u001b[1;32mtry\u001b[0m\u001b[1;33m:\u001b[0m\u001b[1;33m\u001b[0m\u001b[1;33m\u001b[0m\u001b[0m\n\u001b[1;32m--> 268\u001b[1;33m             \u001b[0mresponse\u001b[0m\u001b[1;33m.\u001b[0m\u001b[0mraise_for_status\u001b[0m\u001b[1;33m(\u001b[0m\u001b[1;33m)\u001b[0m\u001b[1;33m\u001b[0m\u001b[1;33m\u001b[0m\u001b[0m\n\u001b[0m\u001b[0;32m    269\u001b[0m         \u001b[1;32mexcept\u001b[0m \u001b[0mrequests\u001b[0m\u001b[1;33m.\u001b[0m\u001b[0mexceptions\u001b[0m\u001b[1;33m.\u001b[0m\u001b[0mHTTPError\u001b[0m \u001b[1;32mas\u001b[0m \u001b[0me\u001b[0m\u001b[1;33m:\u001b[0m\u001b[1;33m\u001b[0m\u001b[1;33m\u001b[0m\u001b[0m\n",
      "\u001b[1;32mS:\\ProgramData\\Anaconda3\\envs\\scvi_destvi_x\\lib\\site-packages\\requests\\models.py\u001b[0m in \u001b[0;36mraise_for_status\u001b[1;34m(self)\u001b[0m\n\u001b[0;32m   1020\u001b[0m         \u001b[1;32mif\u001b[0m \u001b[0mhttp_error_msg\u001b[0m\u001b[1;33m:\u001b[0m\u001b[1;33m\u001b[0m\u001b[1;33m\u001b[0m\u001b[0m\n\u001b[1;32m-> 1021\u001b[1;33m             \u001b[1;32mraise\u001b[0m \u001b[0mHTTPError\u001b[0m\u001b[1;33m(\u001b[0m\u001b[0mhttp_error_msg\u001b[0m\u001b[1;33m,\u001b[0m \u001b[0mresponse\u001b[0m\u001b[1;33m=\u001b[0m\u001b[0mself\u001b[0m\u001b[1;33m)\u001b[0m\u001b[1;33m\u001b[0m\u001b[1;33m\u001b[0m\u001b[0m\n\u001b[0m\u001b[0;32m   1022\u001b[0m \u001b[1;33m\u001b[0m\u001b[0m\n",
      "\u001b[1;31mHTTPError\u001b[0m: 500 Server Error: Internal Server Error for url: http+docker://localnpipe/v1.41/auth",
      "\nThe above exception was the direct cause of the following exception:\n",
      "\u001b[1;31mAPIError\u001b[0m                                  Traceback (most recent call last)",
      "\u001b[1;32m~\\AppData\\Local\\Temp\\ipykernel_15152\\3693034358.py\u001b[0m in \u001b[0;36m<module>\u001b[1;34m\u001b[0m\n\u001b[0;32m      1\u001b[0m \u001b[0mauth_token\u001b[0m \u001b[1;33m=\u001b[0m \u001b[0mecr\u001b[0m\u001b[1;33m.\u001b[0m\u001b[0mget_authorization_token\u001b[0m\u001b[1;33m(\u001b[0m\u001b[1;33m)\u001b[0m\u001b[1;33m\u001b[0m\u001b[1;33m\u001b[0m\u001b[0m\n\u001b[0;32m      2\u001b[0m \u001b[0mregistry\u001b[0m \u001b[1;33m=\u001b[0m \u001b[0mauth_token\u001b[0m\u001b[1;33m[\u001b[0m\u001b[1;34m'authorizationData'\u001b[0m\u001b[1;33m]\u001b[0m\u001b[1;33m[\u001b[0m\u001b[1;36m0\u001b[0m\u001b[1;33m]\u001b[0m\u001b[1;33m[\u001b[0m\u001b[1;34m'proxyEndpoint'\u001b[0m\u001b[1;33m]\u001b[0m\u001b[1;33m\u001b[0m\u001b[1;33m\u001b[0m\u001b[0m\n\u001b[1;32m----> 3\u001b[1;33m client.login(username='AWS',\n\u001b[0m\u001b[0;32m      4\u001b[0m              \u001b[0mpassword\u001b[0m\u001b[1;33m=\u001b[0m\u001b[0mauth_token\u001b[0m\u001b[1;33m[\u001b[0m\u001b[1;34m'authorizationData'\u001b[0m\u001b[1;33m]\u001b[0m\u001b[1;33m[\u001b[0m\u001b[1;36m0\u001b[0m\u001b[1;33m]\u001b[0m\u001b[1;33m[\u001b[0m\u001b[1;34m'authorizationToken'\u001b[0m\u001b[1;33m]\u001b[0m\u001b[1;33m,\u001b[0m\u001b[1;33m\u001b[0m\u001b[1;33m\u001b[0m\u001b[0m\n\u001b[0;32m      5\u001b[0m              registry=registry)\n",
      "\u001b[1;32m~\\AppData\\Roaming\\Python\\Python38\\site-packages\\docker\\client.py\u001b[0m in \u001b[0;36mlogin\u001b[1;34m(self, *args, **kwargs)\u001b[0m\n\u001b[0;32m    197\u001b[0m \u001b[1;33m\u001b[0m\u001b[0m\n\u001b[0;32m    198\u001b[0m     \u001b[1;32mdef\u001b[0m \u001b[0mlogin\u001b[0m\u001b[1;33m(\u001b[0m\u001b[0mself\u001b[0m\u001b[1;33m,\u001b[0m \u001b[1;33m*\u001b[0m\u001b[0margs\u001b[0m\u001b[1;33m,\u001b[0m \u001b[1;33m**\u001b[0m\u001b[0mkwargs\u001b[0m\u001b[1;33m)\u001b[0m\u001b[1;33m:\u001b[0m\u001b[1;33m\u001b[0m\u001b[1;33m\u001b[0m\u001b[0m\n\u001b[1;32m--> 199\u001b[1;33m         \u001b[1;32mreturn\u001b[0m \u001b[0mself\u001b[0m\u001b[1;33m.\u001b[0m\u001b[0mapi\u001b[0m\u001b[1;33m.\u001b[0m\u001b[0mlogin\u001b[0m\u001b[1;33m(\u001b[0m\u001b[1;33m*\u001b[0m\u001b[0margs\u001b[0m\u001b[1;33m,\u001b[0m \u001b[1;33m**\u001b[0m\u001b[0mkwargs\u001b[0m\u001b[1;33m)\u001b[0m\u001b[1;33m\u001b[0m\u001b[1;33m\u001b[0m\u001b[0m\n\u001b[0m\u001b[0;32m    200\u001b[0m     \u001b[0mlogin\u001b[0m\u001b[1;33m.\u001b[0m\u001b[0m__doc__\u001b[0m \u001b[1;33m=\u001b[0m \u001b[0mAPIClient\u001b[0m\u001b[1;33m.\u001b[0m\u001b[0mlogin\u001b[0m\u001b[1;33m.\u001b[0m\u001b[0m__doc__\u001b[0m\u001b[1;33m\u001b[0m\u001b[1;33m\u001b[0m\u001b[0m\n\u001b[0;32m    201\u001b[0m \u001b[1;33m\u001b[0m\u001b[0m\n",
      "\u001b[1;32m~\\AppData\\Roaming\\Python\\Python38\\site-packages\\docker\\api\\daemon.py\u001b[0m in \u001b[0;36mlogin\u001b[1;34m(self, username, password, email, registry, reauth, dockercfg_path)\u001b[0m\n\u001b[0;32m    150\u001b[0m         \u001b[1;32mif\u001b[0m \u001b[0mresponse\u001b[0m\u001b[1;33m.\u001b[0m\u001b[0mstatus_code\u001b[0m \u001b[1;33m==\u001b[0m \u001b[1;36m200\u001b[0m\u001b[1;33m:\u001b[0m\u001b[1;33m\u001b[0m\u001b[1;33m\u001b[0m\u001b[0m\n\u001b[0;32m    151\u001b[0m             \u001b[0mself\u001b[0m\u001b[1;33m.\u001b[0m\u001b[0m_auth_configs\u001b[0m\u001b[1;33m.\u001b[0m\u001b[0madd_auth\u001b[0m\u001b[1;33m(\u001b[0m\u001b[0mregistry\u001b[0m \u001b[1;32mor\u001b[0m \u001b[0mauth\u001b[0m\u001b[1;33m.\u001b[0m\u001b[0mINDEX_NAME\u001b[0m\u001b[1;33m,\u001b[0m \u001b[0mreq_data\u001b[0m\u001b[1;33m)\u001b[0m\u001b[1;33m\u001b[0m\u001b[1;33m\u001b[0m\u001b[0m\n\u001b[1;32m--> 152\u001b[1;33m         \u001b[1;32mreturn\u001b[0m \u001b[0mself\u001b[0m\u001b[1;33m.\u001b[0m\u001b[0m_result\u001b[0m\u001b[1;33m(\u001b[0m\u001b[0mresponse\u001b[0m\u001b[1;33m,\u001b[0m \u001b[0mjson\u001b[0m\u001b[1;33m=\u001b[0m\u001b[1;32mTrue\u001b[0m\u001b[1;33m)\u001b[0m\u001b[1;33m\u001b[0m\u001b[1;33m\u001b[0m\u001b[0m\n\u001b[0m\u001b[0;32m    153\u001b[0m \u001b[1;33m\u001b[0m\u001b[0m\n\u001b[0;32m    154\u001b[0m     \u001b[1;32mdef\u001b[0m \u001b[0mping\u001b[0m\u001b[1;33m(\u001b[0m\u001b[0mself\u001b[0m\u001b[1;33m)\u001b[0m\u001b[1;33m:\u001b[0m\u001b[1;33m\u001b[0m\u001b[1;33m\u001b[0m\u001b[0m\n",
      "\u001b[1;32m~\\AppData\\Roaming\\Python\\Python38\\site-packages\\docker\\api\\client.py\u001b[0m in \u001b[0;36m_result\u001b[1;34m(self, response, json, binary)\u001b[0m\n\u001b[0;32m    272\u001b[0m     \u001b[1;32mdef\u001b[0m \u001b[0m_result\u001b[0m\u001b[1;33m(\u001b[0m\u001b[0mself\u001b[0m\u001b[1;33m,\u001b[0m \u001b[0mresponse\u001b[0m\u001b[1;33m,\u001b[0m \u001b[0mjson\u001b[0m\u001b[1;33m=\u001b[0m\u001b[1;32mFalse\u001b[0m\u001b[1;33m,\u001b[0m \u001b[0mbinary\u001b[0m\u001b[1;33m=\u001b[0m\u001b[1;32mFalse\u001b[0m\u001b[1;33m)\u001b[0m\u001b[1;33m:\u001b[0m\u001b[1;33m\u001b[0m\u001b[1;33m\u001b[0m\u001b[0m\n\u001b[0;32m    273\u001b[0m         \u001b[1;32massert\u001b[0m \u001b[1;32mnot\u001b[0m \u001b[1;33m(\u001b[0m\u001b[0mjson\u001b[0m \u001b[1;32mand\u001b[0m \u001b[0mbinary\u001b[0m\u001b[1;33m)\u001b[0m\u001b[1;33m\u001b[0m\u001b[1;33m\u001b[0m\u001b[0m\n\u001b[1;32m--> 274\u001b[1;33m         \u001b[0mself\u001b[0m\u001b[1;33m.\u001b[0m\u001b[0m_raise_for_status\u001b[0m\u001b[1;33m(\u001b[0m\u001b[0mresponse\u001b[0m\u001b[1;33m)\u001b[0m\u001b[1;33m\u001b[0m\u001b[1;33m\u001b[0m\u001b[0m\n\u001b[0m\u001b[0;32m    275\u001b[0m \u001b[1;33m\u001b[0m\u001b[0m\n\u001b[0;32m    276\u001b[0m         \u001b[1;32mif\u001b[0m \u001b[0mjson\u001b[0m\u001b[1;33m:\u001b[0m\u001b[1;33m\u001b[0m\u001b[1;33m\u001b[0m\u001b[0m\n",
      "\u001b[1;32m~\\AppData\\Roaming\\Python\\Python38\\site-packages\\docker\\api\\client.py\u001b[0m in \u001b[0;36m_raise_for_status\u001b[1;34m(self, response)\u001b[0m\n\u001b[0;32m    268\u001b[0m             \u001b[0mresponse\u001b[0m\u001b[1;33m.\u001b[0m\u001b[0mraise_for_status\u001b[0m\u001b[1;33m(\u001b[0m\u001b[1;33m)\u001b[0m\u001b[1;33m\u001b[0m\u001b[1;33m\u001b[0m\u001b[0m\n\u001b[0;32m    269\u001b[0m         \u001b[1;32mexcept\u001b[0m \u001b[0mrequests\u001b[0m\u001b[1;33m.\u001b[0m\u001b[0mexceptions\u001b[0m\u001b[1;33m.\u001b[0m\u001b[0mHTTPError\u001b[0m \u001b[1;32mas\u001b[0m \u001b[0me\u001b[0m\u001b[1;33m:\u001b[0m\u001b[1;33m\u001b[0m\u001b[1;33m\u001b[0m\u001b[0m\n\u001b[1;32m--> 270\u001b[1;33m             \u001b[1;32mraise\u001b[0m \u001b[0mcreate_api_error_from_http_exception\u001b[0m\u001b[1;33m(\u001b[0m\u001b[0me\u001b[0m\u001b[1;33m)\u001b[0m \u001b[1;32mfrom\u001b[0m \u001b[0me\u001b[0m\u001b[1;33m\u001b[0m\u001b[1;33m\u001b[0m\u001b[0m\n\u001b[0m\u001b[0;32m    271\u001b[0m \u001b[1;33m\u001b[0m\u001b[0m\n\u001b[0;32m    272\u001b[0m     \u001b[1;32mdef\u001b[0m \u001b[0m_result\u001b[0m\u001b[1;33m(\u001b[0m\u001b[0mself\u001b[0m\u001b[1;33m,\u001b[0m \u001b[0mresponse\u001b[0m\u001b[1;33m,\u001b[0m \u001b[0mjson\u001b[0m\u001b[1;33m=\u001b[0m\u001b[1;32mFalse\u001b[0m\u001b[1;33m,\u001b[0m \u001b[0mbinary\u001b[0m\u001b[1;33m=\u001b[0m\u001b[1;32mFalse\u001b[0m\u001b[1;33m)\u001b[0m\u001b[1;33m:\u001b[0m\u001b[1;33m\u001b[0m\u001b[1;33m\u001b[0m\u001b[0m\n",
      "\u001b[1;32m~\\AppData\\Roaming\\Python\\Python38\\site-packages\\docker\\errors.py\u001b[0m in \u001b[0;36mcreate_api_error_from_http_exception\u001b[1;34m(e)\u001b[0m\n\u001b[0;32m     37\u001b[0m         \u001b[1;32melse\u001b[0m\u001b[1;33m:\u001b[0m\u001b[1;33m\u001b[0m\u001b[1;33m\u001b[0m\u001b[0m\n\u001b[0;32m     38\u001b[0m             \u001b[0mcls\u001b[0m \u001b[1;33m=\u001b[0m \u001b[0mNotFound\u001b[0m\u001b[1;33m\u001b[0m\u001b[1;33m\u001b[0m\u001b[0m\n\u001b[1;32m---> 39\u001b[1;33m     \u001b[1;32mraise\u001b[0m \u001b[0mcls\u001b[0m\u001b[1;33m(\u001b[0m\u001b[0me\u001b[0m\u001b[1;33m,\u001b[0m \u001b[0mresponse\u001b[0m\u001b[1;33m=\u001b[0m\u001b[0mresponse\u001b[0m\u001b[1;33m,\u001b[0m \u001b[0mexplanation\u001b[0m\u001b[1;33m=\u001b[0m\u001b[0mexplanation\u001b[0m\u001b[1;33m)\u001b[0m \u001b[1;32mfrom\u001b[0m \u001b[0me\u001b[0m\u001b[1;33m\u001b[0m\u001b[1;33m\u001b[0m\u001b[0m\n\u001b[0m\u001b[0;32m     40\u001b[0m \u001b[1;33m\u001b[0m\u001b[0m\n\u001b[0;32m     41\u001b[0m \u001b[1;33m\u001b[0m\u001b[0m\n",
      "\u001b[1;31mAPIError\u001b[0m: 500 Server Error for http+docker://localnpipe/v1.41/auth: Internal Server Error (\"login attempt to https://221497708189.dkr.ecr.us-west-2.amazonaws.com/v2/ failed with status: 400 Bad Request\")"
     ]
    }
   ],
   "source": [
    "auth_token = ecr.get_authorization_token()\n",
    "registry = auth_token['authorizationData'][0]['proxyEndpoint']\n",
    "client.login(username='AWS',\n",
    "             password=auth_token['authorizationData'][0]['authorizationToken'],\n",
    "             registry=registry)"
   ]
  },
  {
   "cell_type": "code",
   "execution_count": 15,
   "id": "33c6a2d6",
   "metadata": {
    "collapsed": true
   },
   "outputs": [
    {
     "name": "stdout",
     "output_type": "stream",
     "text": [
      "[<Image: '221497708189.dkr.ecr.us-west-2.amazonaws.com/sbio_apps:eeggan_gpu', 'eeggan_gpu:latest'>, <Image: '221497708189.dkr.ecr.us-west-2.amazonaws.com/sbio_apps:eeggan_cpu', 'eeggan_cpu:latest'>, <Image: '221497708189.dkr.ecr.us-west-2.amazonaws.com/sbio_apps:deepliif_cpu', 'deepliif_cpu:latest'>, <Image: '221497708189.dkr.ecr.us-west-2.amazonaws.com/sbio_apps:deepliif_gpu', 'deepliif_gpu:latest'>, <Image: '221497708189.dkr.ecr.us-west-2.amazonaws.com/sbio_apps:scannotate_gpu', 'scannotate_gpu:latest'>, <Image: '221497708189.dkr.ecr.us-west-2.amazonaws.com/sbio_apps:scannotate_cpu', 'scannotate_cpu:latest'>, <Image: '221497708189.dkr.ecr.us-west-2.amazonaws.com/sbio_apps:scvi_gpu', 'scvi_gpu:latest'>, <Image: '221497708189.dkr.ecr.us-west-2.amazonaws.com/sbio_apps:scvi_cpu', 'scvi_cpu:latest'>, <Image: '221497708189.dkr.ecr.us-west-2.amazonaws.com/sbio_apps:eeg_cpu'>, <Image: '221497708189.dkr.ecr.us-west-2.amazonaws.com/sbio_apps:esm_gpu', 'esm_gpu:latest'>, <Image: '221497708189.dkr.ecr.us-west-2.amazonaws.com/sbio_apps:esm_cpu', 'esm_cpu:latest'>, <Image: '221497708189.dkr.ecr.us-west-2.amazonaws.com/sbio_apps:cxr_test', 'cxr_test:latest'>, <Image: '221497708189.dkr.ecr.us-west-2.amazonaws.com/sbio_apps:cxr_cpu'>, <Image: '221497708189.dkr.ecr.us-west-2.amazonaws.com/sbio_apps:cxr_gpu', 'cxr_gpu:latest'>, <Image: '221497708189.dkr.ecr.us-west-2.amazonaws.com/sbio_apps:scvi_v19_gpu', 'scvi_v19_gpu:latest'>, <Image: '221497708189.dkr.ecr.us-west-2.amazonaws.com/sbio_apps:scvi_v19_cpu', 'scvi_v19_cpu:latest'>, <Image: '221497708189.dkr.ecr.us-west-2.amazonaws.com/sbio_apps:esm_inverse', 'esm_inverse:latest'>, <Image: '221497708189.dkr.ecr.us-west-2.amazonaws.com/sbio_apps:neuralforecast_cpu', 'neuralforecast_cpu:latest'>, <Image: '221497708189.dkr.ecr.us-west-2.amazonaws.com/sbio_apps:neuralforecast_gpu', 'neuralforecast_gpu:latest'>, <Image: '221497708189.dkr.ecr.us-west-2.amazonaws.com/sbio_apps:mlforecast_gpu', 'mlforecast_gpu:latest'>, <Image: '221497708189.dkr.ecr.us-west-2.amazonaws.com/sbio_apps:statsforecast', 'statsforecast:latest'>, <Image: '221497708189.dkr.ecr.us-west-2.amazonaws.com/sbio_apps:mlforecast_cpu', 'mlforecast_cpu:latest'>, <Image: '221497708189.dkr.ecr.us-west-2.amazonaws.com/sbio_apps:scjoint', 'scjoint:latest'>, <Image: 'scjoint_cpu:latest'>, <Image: '221497708189.dkr.ecr.us-west-2.amazonaws.com/sbio_apps:pathfindr'>, <Image: '221497708189.dkr.ecr.us-west-2.amazonaws.com/sbio_apps:neuralforecast'>, <Image: '221497708189.dkr.ecr.us-west-2.amazonaws.com/sbio_apps:scdeepcluster_gpu', 'scdeepcluster:latest'>, <Image: '221497708189.dkr.ecr.us-west-2.amazonaws.com/sbio_apps:scjoint_gpu', 'scjoint_gpu:latest'>]\n"
     ]
    }
   ],
   "source": [
    "response = client.images.list(filters={'reference': '221497708189.dkr.ecr.us-west-2.amazonaws.com/sbio_apps',\n",
    "                                       'dangling': False})"
   ]
  },
  {
   "cell_type": "code",
   "execution_count": 16,
   "id": "09ad8f40",
   "metadata": {},
   "outputs": [
    {
     "data": {
      "text/plain": [
       "[<Image: '221497708189.dkr.ecr.us-west-2.amazonaws.com/sbio_apps:eeggan_gpu', 'eeggan_gpu:latest'>,\n",
       " <Image: '221497708189.dkr.ecr.us-west-2.amazonaws.com/sbio_apps:eeggan_cpu', 'eeggan_cpu:latest'>,\n",
       " <Image: '221497708189.dkr.ecr.us-west-2.amazonaws.com/sbio_apps:deepliif_cpu', 'deepliif_cpu:latest'>,\n",
       " <Image: '221497708189.dkr.ecr.us-west-2.amazonaws.com/sbio_apps:deepliif_gpu', 'deepliif_gpu:latest'>,\n",
       " <Image: '221497708189.dkr.ecr.us-west-2.amazonaws.com/sbio_apps:scannotate_gpu', 'scannotate_gpu:latest'>,\n",
       " <Image: '221497708189.dkr.ecr.us-west-2.amazonaws.com/sbio_apps:scannotate_cpu', 'scannotate_cpu:latest'>,\n",
       " <Image: '221497708189.dkr.ecr.us-west-2.amazonaws.com/sbio_apps:scvi_gpu', 'scvi_gpu:latest'>,\n",
       " <Image: '221497708189.dkr.ecr.us-west-2.amazonaws.com/sbio_apps:scvi_cpu', 'scvi_cpu:latest'>,\n",
       " <Image: '221497708189.dkr.ecr.us-west-2.amazonaws.com/sbio_apps:eeg_cpu'>,\n",
       " <Image: '221497708189.dkr.ecr.us-west-2.amazonaws.com/sbio_apps:esm_gpu', 'esm_gpu:latest'>,\n",
       " <Image: '221497708189.dkr.ecr.us-west-2.amazonaws.com/sbio_apps:esm_cpu', 'esm_cpu:latest'>,\n",
       " <Image: '221497708189.dkr.ecr.us-west-2.amazonaws.com/sbio_apps:cxr_test', 'cxr_test:latest'>,\n",
       " <Image: '221497708189.dkr.ecr.us-west-2.amazonaws.com/sbio_apps:cxr_cpu'>,\n",
       " <Image: '221497708189.dkr.ecr.us-west-2.amazonaws.com/sbio_apps:cxr_gpu', 'cxr_gpu:latest'>,\n",
       " <Image: '221497708189.dkr.ecr.us-west-2.amazonaws.com/sbio_apps:scvi_v19_gpu', 'scvi_v19_gpu:latest'>,\n",
       " <Image: '221497708189.dkr.ecr.us-west-2.amazonaws.com/sbio_apps:scvi_v19_cpu', 'scvi_v19_cpu:latest'>,\n",
       " <Image: '221497708189.dkr.ecr.us-west-2.amazonaws.com/sbio_apps:esm_inverse', 'esm_inverse:latest'>,\n",
       " <Image: '221497708189.dkr.ecr.us-west-2.amazonaws.com/sbio_apps:neuralforecast_cpu', 'neuralforecast_cpu:latest'>,\n",
       " <Image: '221497708189.dkr.ecr.us-west-2.amazonaws.com/sbio_apps:neuralforecast_gpu', 'neuralforecast_gpu:latest'>,\n",
       " <Image: '221497708189.dkr.ecr.us-west-2.amazonaws.com/sbio_apps:mlforecast_gpu', 'mlforecast_gpu:latest'>,\n",
       " <Image: '221497708189.dkr.ecr.us-west-2.amazonaws.com/sbio_apps:statsforecast', 'statsforecast:latest'>,\n",
       " <Image: '221497708189.dkr.ecr.us-west-2.amazonaws.com/sbio_apps:mlforecast_cpu', 'mlforecast_cpu:latest'>,\n",
       " <Image: '221497708189.dkr.ecr.us-west-2.amazonaws.com/sbio_apps:scjoint', 'scjoint:latest'>,\n",
       " <Image: 'scjoint_cpu:latest'>,\n",
       " <Image: '221497708189.dkr.ecr.us-west-2.amazonaws.com/sbio_apps:pathfindr'>,\n",
       " <Image: '221497708189.dkr.ecr.us-west-2.amazonaws.com/sbio_apps:neuralforecast'>,\n",
       " <Image: '221497708189.dkr.ecr.us-west-2.amazonaws.com/sbio_apps:scdeepcluster_gpu', 'scdeepcluster:latest'>,\n",
       " <Image: '221497708189.dkr.ecr.us-west-2.amazonaws.com/sbio_apps:scjoint_gpu', 'scjoint_gpu:latest'>]"
      ]
     },
     "execution_count": 16,
     "metadata": {},
     "output_type": "execute_result"
    }
   ],
   "source": [
    "response"
   ]
  },
  {
   "cell_type": "code",
   "execution_count": 48,
   "id": "f92ea47a",
   "metadata": {},
   "outputs": [],
   "source": [
    "import boto3\n",
    "\n",
    "session = boto3.Session(profile_name='default')\n",
    "ecr = session.client('ecr')\n",
    "\n",
    "response = ecr.describe_images(repositoryName='sbio_apps',\n",
    "                           maxResults=500)"
   ]
  },
  {
   "cell_type": "code",
   "execution_count": 51,
   "id": "79050a7c",
   "metadata": {},
   "outputs": [
    {
     "name": "stdout",
     "output_type": "stream",
     "text": [
      "['synthseg']\n",
      "['scgpt_annot_gpu']\n",
      "['graphic']\n",
      "['maxatac']\n",
      "['scvi_cpu']\n",
      "['mlforecast']\n",
      "['dash-front-2.0']\n",
      "['stardist2d']\n",
      "['dind_app_runner']\n",
      "['deepstorm']\n",
      "['n2v_3d']\n",
      "['autogluon_all_1']\n",
      "['protgpt_cpu']\n",
      "['protgpt_gpu']\n",
      "['chemprop_training_app']\n",
      "['unet2dmulti_inf_skele']\n",
      "['esm_inverse']\n",
      "['deepvariant']\n",
      "['alphafold']\n",
      "['reinvent_sampling_app']\n",
      "['eeggan_cpu']\n",
      "['scgpt_ref_mapping_gpu']\n",
      "['bolt_lmm']\n",
      "['scvi_cpu_test']\n",
      "['scannotate_gpu']\n",
      "['esm_cpu']\n",
      "['pix2pix_gpu']\n",
      "['dfcan_inf']\n",
      "['autogluon-0.1']\n",
      "['reinvent_transfer_learning_app']\n",
      "['scjoint']\n",
      "['diffsbdd']\n",
      "['deepfri']\n",
      "['mlforecast_gpu']\n",
      "['eeg_cpu']\n",
      "['unet2dtrain']\n",
      "['dash-2.0.0']\n",
      "['deepliif_gpu']\n",
      "['cyclegan']\n",
      "['reinvent_scoring_app']\n",
      "['chemberta_inference_cpu']\n",
      "['cxr_cpu']\n",
      "['neuralforecast_cpu']\n",
      "['reinvent_create_model_app']\n",
      "['katyatest-187']\n",
      "['sample_latest']\n",
      "['apprunner']\n",
      "['chainer_chemistry_gpu']\n",
      "['bonito']\n",
      "['neuralforecast_gpu']\n",
      "['prostate_open']\n",
      "['pix2pix_inf']\n",
      "['auto3d']\n",
      "['deeppurpose']\n",
      "['deepvariant_gpu']\n",
      "['scjoint_gpu']\n",
      "['maxatac_32batch']\n",
      "['umap-0.1']\n",
      "['dindtests']\n",
      "['covidnet_infer']\n",
      "['deepvariant_cpu']\n",
      "['n2v2d_inf']\n",
      "['saturn_gpu']\n",
      "['saturn_cpu']\n",
      "['scvi_gpu']\n",
      "['chainer_chemistry']\n",
      "['pix2pix']\n",
      "['rfdiffusion_gpu']\n",
      "['naive_cnn_gpu']\n",
      "['im_class_retraining']\n",
      "['reinvent_reinforcement_learning_app']\n",
      "['im_class_retrain_inf']\n",
      "['deeptrio_gpu']\n",
      "['deepcrispr_ontarget', 'deep_crispr_on_target', 'deep_crispr_on_target_', 'deepcrispr_on_target', 'deepmolopt']\n",
      "['scdeepcluster']\n",
      "['spliceai']\n",
      "['scvi_gpu_test']\n",
      "['ldvae_gpu']\n",
      "['unet2dinfskel']\n",
      "['statsforecast']\n",
      "['n2v_inf']\n",
      "['autogluon_cpu']\n",
      "['deeptrio_cpu']\n",
      "['naive_cnn']\n",
      "['reinvent_train_qsar_app']\n",
      "['deepcrispr_on_target_app']\n",
      "['GenNet']\n",
      "['chemberta_inference_gpu']\n",
      "['nf_encyclopedia']\n",
      "['autogluon-dev-latest']\n",
      "['esm_gpu']\n",
      "['drkg']\n",
      "['chemberta_clintox']\n",
      "['deepliif_cpu']\n",
      "['pathfindr']\n",
      "['deepnull_app']\n",
      "['reinvent_case_app']\n",
      "['foldingdiff_app_gpu']\n",
      "['cxr_gpu']\n"
     ]
    }
   ],
   "source": [
    "for image in response['imageDetails']:\n",
    "    if image.get('imageTags'):\n",
    "        print(image['imageTags'])"
   ]
  },
  {
   "cell_type": "code",
   "execution_count": 52,
   "id": "ef5e72d8",
   "metadata": {},
   "outputs": [
    {
     "name": "stdout",
     "output_type": "stream",
     "text": [
      "['arn:aws:ecs:us-west-2:221497708189:cluster/mlw-job', 'arn:aws:ecs:us-west-2:221497708189:cluster/superbioai', 'arn:aws:ecs:us-west-2:221497708189:cluster/AWSBatch-CPU-Fargate-Dev-6e106ddb-f9c6-303c-b20a-76c830fbd68c', 'arn:aws:ecs:us-west-2:221497708189:cluster/AWSBatch-CPU-Fargate-a56c9e1b-c7e0-3216-b9c6-51d6339cb9be', 'arn:aws:ecs:us-west-2:221497708189:cluster/AWSBatch-GPU-Prod-b1d38f5b-3632-301d-8b9e-c424f3e9d863', 'arn:aws:ecs:us-west-2:221497708189:cluster/ecs-gpu-test', 'arn:aws:ecs:us-west-2:221497708189:cluster/sbio-appstore', 'arn:aws:ecs:us-west-2:221497708189:cluster/AWSBatch-CPU-EC2-1-2db3681a-a065-3942-96e4-99d63be09cd4', 'arn:aws:ecs:us-west-2:221497708189:cluster/AWSBatch-CPU-EC2-a92266fc-69e3-3857-86bf-531ee9900bcf', 'arn:aws:ecs:us-west-2:221497708189:cluster/AWSBatch-GPU-Dev-66b8eb35-42f1-3d68-882f-5a67bd9c8bef', 'arn:aws:ecs:us-west-2:221497708189:cluster/default']\n"
     ]
    }
   ],
   "source": [
    "ecs = session.client('ecs')\n",
    "\n",
    "response = ecs.list_clusters()\n",
    "print(response['clusterArns'])"
   ]
  },
  {
   "cell_type": "code",
   "execution_count": 53,
   "id": "da9647a3",
   "metadata": {},
   "outputs": [
    {
     "name": "stdout",
     "output_type": "stream",
     "text": [
      "['arn:aws:ecs:us-west-2:221497708189:service/superbioai/superbioai-production-explorebio', 'arn:aws:ecs:us-west-2:221497708189:service/superbioai/superbioai-production-chatgpt', 'arn:aws:ecs:us-west-2:221497708189:service/superbioai/superbioai-production-paperqa', 'arn:aws:ecs:us-west-2:221497708189:service/superbioai/superbioai-production-biogpt', 'arn:aws:ecs:us-west-2:221497708189:service/superbioai/superbioai-production-biochat', 'arn:aws:ecs:us-west-2:221497708189:service/superbioai/superbioai-production-codebio', 'arn:aws:ecs:us-west-2:221497708189:service/superbioai/superbioai-production-searchbio']\n"
     ]
    }
   ],
   "source": [
    "response = ecs.list_services(cluster='superbioai')\n",
    "print(response['serviceArns'])"
   ]
  },
  {
   "cell_type": "code",
   "execution_count": 88,
   "id": "e6d0ec51",
   "metadata": {},
   "outputs": [],
   "source": [
    "import base64\n",
    "import boto3\n",
    "import docker\n",
    "import subprocess\n",
    "def login_docker_client_to_aws_ecr():\n",
    "    token = ecr.get_authorization_token()\n",
    "    username, password = base64.b64decode(token['authorizationData'][0]['authorizationToken']).decode().split(':')\n",
    "    registry = token['authorizationData'][0]['proxyEndpoint']\n",
    "\n",
    "    # loggin in via the docker sdk doesnt work so we're gonna go with this workaround\n",
    "    command = 'docker login -u %s -p %s %s' % (username, password, registry)\n",
    "\n",
    "    p = subprocess.Popen([command], stdout=subprocess.PIPE, shell=True, bufsize=1)\n",
    "    for line in iter(p.stdout.readline, b''):\n",
    "        print(line)\n",
    "    p.communicate()  # close p.stdout, wait for the subprocess to exit"
   ]
  },
  {
   "cell_type": "code",
   "execution_count": 89,
   "id": "1df85ed8",
   "metadata": {},
   "outputs": [
    {
     "name": "stderr",
     "output_type": "stream",
     "text": [
      "S:\\ProgramData\\Anaconda3\\envs\\scvi_destvi_x\\lib\\subprocess.py:848: RuntimeWarning: line buffering (buffering=1) isn't supported in binary mode, the default buffer size will be used\n",
      "  self.stdout = io.open(c2pread, 'rb', bufsize)\n"
     ]
    }
   ],
   "source": [
    "login_docker_client_to_aws_ecr()"
   ]
  },
  {
   "cell_type": "code",
   "execution_count": 83,
   "id": "fac9a885",
   "metadata": {
    "collapsed": true
   },
   "outputs": [
    {
     "ename": "APIError",
     "evalue": "500 Server Error for http+docker://localnpipe/v1.41/auth: Internal Server Error (\"login attempt to https://221497708189.dkr.ecr.us-west-2.amazonaws.com/v2/ failed with status: 400 Bad Request\")",
     "output_type": "error",
     "traceback": [
      "\u001b[1;31m---------------------------------------------------------------------------\u001b[0m",
      "\u001b[1;31mHTTPError\u001b[0m                                 Traceback (most recent call last)",
      "\u001b[1;32m~\\AppData\\Roaming\\Python\\Python38\\site-packages\\docker\\api\\client.py\u001b[0m in \u001b[0;36m_raise_for_status\u001b[1;34m(self, response)\u001b[0m\n\u001b[0;32m    267\u001b[0m         \u001b[1;32mtry\u001b[0m\u001b[1;33m:\u001b[0m\u001b[1;33m\u001b[0m\u001b[1;33m\u001b[0m\u001b[0m\n\u001b[1;32m--> 268\u001b[1;33m             \u001b[0mresponse\u001b[0m\u001b[1;33m.\u001b[0m\u001b[0mraise_for_status\u001b[0m\u001b[1;33m(\u001b[0m\u001b[1;33m)\u001b[0m\u001b[1;33m\u001b[0m\u001b[1;33m\u001b[0m\u001b[0m\n\u001b[0m\u001b[0;32m    269\u001b[0m         \u001b[1;32mexcept\u001b[0m \u001b[0mrequests\u001b[0m\u001b[1;33m.\u001b[0m\u001b[0mexceptions\u001b[0m\u001b[1;33m.\u001b[0m\u001b[0mHTTPError\u001b[0m \u001b[1;32mas\u001b[0m \u001b[0me\u001b[0m\u001b[1;33m:\u001b[0m\u001b[1;33m\u001b[0m\u001b[1;33m\u001b[0m\u001b[0m\n",
      "\u001b[1;32mS:\\ProgramData\\Anaconda3\\envs\\scvi_destvi_x\\lib\\site-packages\\requests\\models.py\u001b[0m in \u001b[0;36mraise_for_status\u001b[1;34m(self)\u001b[0m\n\u001b[0;32m   1020\u001b[0m         \u001b[1;32mif\u001b[0m \u001b[0mhttp_error_msg\u001b[0m\u001b[1;33m:\u001b[0m\u001b[1;33m\u001b[0m\u001b[1;33m\u001b[0m\u001b[0m\n\u001b[1;32m-> 1021\u001b[1;33m             \u001b[1;32mraise\u001b[0m \u001b[0mHTTPError\u001b[0m\u001b[1;33m(\u001b[0m\u001b[0mhttp_error_msg\u001b[0m\u001b[1;33m,\u001b[0m \u001b[0mresponse\u001b[0m\u001b[1;33m=\u001b[0m\u001b[0mself\u001b[0m\u001b[1;33m)\u001b[0m\u001b[1;33m\u001b[0m\u001b[1;33m\u001b[0m\u001b[0m\n\u001b[0m\u001b[0;32m   1022\u001b[0m \u001b[1;33m\u001b[0m\u001b[0m\n",
      "\u001b[1;31mHTTPError\u001b[0m: 500 Server Error: Internal Server Error for url: http+docker://localnpipe/v1.41/auth",
      "\nThe above exception was the direct cause of the following exception:\n",
      "\u001b[1;31mAPIError\u001b[0m                                  Traceback (most recent call last)",
      "\u001b[1;32m~\\AppData\\Local\\Temp\\ipykernel_15152\\2877069173.py\u001b[0m in \u001b[0;36m<module>\u001b[1;34m\u001b[0m\n\u001b[0;32m      2\u001b[0m \u001b[0mauth_token\u001b[0m \u001b[1;33m=\u001b[0m \u001b[0mecr\u001b[0m\u001b[1;33m.\u001b[0m\u001b[0mget_authorization_token\u001b[0m\u001b[1;33m(\u001b[0m\u001b[1;33m)\u001b[0m\u001b[1;33m\u001b[0m\u001b[1;33m\u001b[0m\u001b[0m\n\u001b[0;32m      3\u001b[0m \u001b[0mregistry\u001b[0m \u001b[1;33m=\u001b[0m \u001b[0mauth_token\u001b[0m\u001b[1;33m[\u001b[0m\u001b[1;34m'authorizationData'\u001b[0m\u001b[1;33m]\u001b[0m\u001b[1;33m[\u001b[0m\u001b[1;36m0\u001b[0m\u001b[1;33m]\u001b[0m\u001b[1;33m[\u001b[0m\u001b[1;34m'proxyEndpoint'\u001b[0m\u001b[1;33m]\u001b[0m\u001b[1;33m\u001b[0m\u001b[1;33m\u001b[0m\u001b[0m\n\u001b[1;32m----> 4\u001b[1;33m client.login(username='AWS',\n\u001b[0m\u001b[0;32m      5\u001b[0m              \u001b[0mpassword\u001b[0m\u001b[1;33m=\u001b[0m\u001b[0mauth_token\u001b[0m\u001b[1;33m[\u001b[0m\u001b[1;34m'authorizationData'\u001b[0m\u001b[1;33m]\u001b[0m\u001b[1;33m[\u001b[0m\u001b[1;36m0\u001b[0m\u001b[1;33m]\u001b[0m\u001b[1;33m[\u001b[0m\u001b[1;34m'authorizationToken'\u001b[0m\u001b[1;33m]\u001b[0m\u001b[1;33m,\u001b[0m\u001b[1;33m\u001b[0m\u001b[1;33m\u001b[0m\u001b[0m\n\u001b[0;32m      6\u001b[0m              registry=registry)\n",
      "\u001b[1;32m~\\AppData\\Roaming\\Python\\Python38\\site-packages\\docker\\api\\daemon.py\u001b[0m in \u001b[0;36mlogin\u001b[1;34m(self, username, password, email, registry, reauth, dockercfg_path)\u001b[0m\n\u001b[0;32m    150\u001b[0m         \u001b[1;32mif\u001b[0m \u001b[0mresponse\u001b[0m\u001b[1;33m.\u001b[0m\u001b[0mstatus_code\u001b[0m \u001b[1;33m==\u001b[0m \u001b[1;36m200\u001b[0m\u001b[1;33m:\u001b[0m\u001b[1;33m\u001b[0m\u001b[1;33m\u001b[0m\u001b[0m\n\u001b[0;32m    151\u001b[0m             \u001b[0mself\u001b[0m\u001b[1;33m.\u001b[0m\u001b[0m_auth_configs\u001b[0m\u001b[1;33m.\u001b[0m\u001b[0madd_auth\u001b[0m\u001b[1;33m(\u001b[0m\u001b[0mregistry\u001b[0m \u001b[1;32mor\u001b[0m \u001b[0mauth\u001b[0m\u001b[1;33m.\u001b[0m\u001b[0mINDEX_NAME\u001b[0m\u001b[1;33m,\u001b[0m \u001b[0mreq_data\u001b[0m\u001b[1;33m)\u001b[0m\u001b[1;33m\u001b[0m\u001b[1;33m\u001b[0m\u001b[0m\n\u001b[1;32m--> 152\u001b[1;33m         \u001b[1;32mreturn\u001b[0m \u001b[0mself\u001b[0m\u001b[1;33m.\u001b[0m\u001b[0m_result\u001b[0m\u001b[1;33m(\u001b[0m\u001b[0mresponse\u001b[0m\u001b[1;33m,\u001b[0m \u001b[0mjson\u001b[0m\u001b[1;33m=\u001b[0m\u001b[1;32mTrue\u001b[0m\u001b[1;33m)\u001b[0m\u001b[1;33m\u001b[0m\u001b[1;33m\u001b[0m\u001b[0m\n\u001b[0m\u001b[0;32m    153\u001b[0m \u001b[1;33m\u001b[0m\u001b[0m\n\u001b[0;32m    154\u001b[0m     \u001b[1;32mdef\u001b[0m \u001b[0mping\u001b[0m\u001b[1;33m(\u001b[0m\u001b[0mself\u001b[0m\u001b[1;33m)\u001b[0m\u001b[1;33m:\u001b[0m\u001b[1;33m\u001b[0m\u001b[1;33m\u001b[0m\u001b[0m\n",
      "\u001b[1;32m~\\AppData\\Roaming\\Python\\Python38\\site-packages\\docker\\api\\client.py\u001b[0m in \u001b[0;36m_result\u001b[1;34m(self, response, json, binary)\u001b[0m\n\u001b[0;32m    272\u001b[0m     \u001b[1;32mdef\u001b[0m \u001b[0m_result\u001b[0m\u001b[1;33m(\u001b[0m\u001b[0mself\u001b[0m\u001b[1;33m,\u001b[0m \u001b[0mresponse\u001b[0m\u001b[1;33m,\u001b[0m \u001b[0mjson\u001b[0m\u001b[1;33m=\u001b[0m\u001b[1;32mFalse\u001b[0m\u001b[1;33m,\u001b[0m \u001b[0mbinary\u001b[0m\u001b[1;33m=\u001b[0m\u001b[1;32mFalse\u001b[0m\u001b[1;33m)\u001b[0m\u001b[1;33m:\u001b[0m\u001b[1;33m\u001b[0m\u001b[1;33m\u001b[0m\u001b[0m\n\u001b[0;32m    273\u001b[0m         \u001b[1;32massert\u001b[0m \u001b[1;32mnot\u001b[0m \u001b[1;33m(\u001b[0m\u001b[0mjson\u001b[0m \u001b[1;32mand\u001b[0m \u001b[0mbinary\u001b[0m\u001b[1;33m)\u001b[0m\u001b[1;33m\u001b[0m\u001b[1;33m\u001b[0m\u001b[0m\n\u001b[1;32m--> 274\u001b[1;33m         \u001b[0mself\u001b[0m\u001b[1;33m.\u001b[0m\u001b[0m_raise_for_status\u001b[0m\u001b[1;33m(\u001b[0m\u001b[0mresponse\u001b[0m\u001b[1;33m)\u001b[0m\u001b[1;33m\u001b[0m\u001b[1;33m\u001b[0m\u001b[0m\n\u001b[0m\u001b[0;32m    275\u001b[0m \u001b[1;33m\u001b[0m\u001b[0m\n\u001b[0;32m    276\u001b[0m         \u001b[1;32mif\u001b[0m \u001b[0mjson\u001b[0m\u001b[1;33m:\u001b[0m\u001b[1;33m\u001b[0m\u001b[1;33m\u001b[0m\u001b[0m\n",
      "\u001b[1;32m~\\AppData\\Roaming\\Python\\Python38\\site-packages\\docker\\api\\client.py\u001b[0m in \u001b[0;36m_raise_for_status\u001b[1;34m(self, response)\u001b[0m\n\u001b[0;32m    268\u001b[0m             \u001b[0mresponse\u001b[0m\u001b[1;33m.\u001b[0m\u001b[0mraise_for_status\u001b[0m\u001b[1;33m(\u001b[0m\u001b[1;33m)\u001b[0m\u001b[1;33m\u001b[0m\u001b[1;33m\u001b[0m\u001b[0m\n\u001b[0;32m    269\u001b[0m         \u001b[1;32mexcept\u001b[0m \u001b[0mrequests\u001b[0m\u001b[1;33m.\u001b[0m\u001b[0mexceptions\u001b[0m\u001b[1;33m.\u001b[0m\u001b[0mHTTPError\u001b[0m \u001b[1;32mas\u001b[0m \u001b[0me\u001b[0m\u001b[1;33m:\u001b[0m\u001b[1;33m\u001b[0m\u001b[1;33m\u001b[0m\u001b[0m\n\u001b[1;32m--> 270\u001b[1;33m             \u001b[1;32mraise\u001b[0m \u001b[0mcreate_api_error_from_http_exception\u001b[0m\u001b[1;33m(\u001b[0m\u001b[0me\u001b[0m\u001b[1;33m)\u001b[0m \u001b[1;32mfrom\u001b[0m \u001b[0me\u001b[0m\u001b[1;33m\u001b[0m\u001b[1;33m\u001b[0m\u001b[0m\n\u001b[0m\u001b[0;32m    271\u001b[0m \u001b[1;33m\u001b[0m\u001b[0m\n\u001b[0;32m    272\u001b[0m     \u001b[1;32mdef\u001b[0m \u001b[0m_result\u001b[0m\u001b[1;33m(\u001b[0m\u001b[0mself\u001b[0m\u001b[1;33m,\u001b[0m \u001b[0mresponse\u001b[0m\u001b[1;33m,\u001b[0m \u001b[0mjson\u001b[0m\u001b[1;33m=\u001b[0m\u001b[1;32mFalse\u001b[0m\u001b[1;33m,\u001b[0m \u001b[0mbinary\u001b[0m\u001b[1;33m=\u001b[0m\u001b[1;32mFalse\u001b[0m\u001b[1;33m)\u001b[0m\u001b[1;33m:\u001b[0m\u001b[1;33m\u001b[0m\u001b[1;33m\u001b[0m\u001b[0m\n",
      "\u001b[1;32m~\\AppData\\Roaming\\Python\\Python38\\site-packages\\docker\\errors.py\u001b[0m in \u001b[0;36mcreate_api_error_from_http_exception\u001b[1;34m(e)\u001b[0m\n\u001b[0;32m     37\u001b[0m         \u001b[1;32melse\u001b[0m\u001b[1;33m:\u001b[0m\u001b[1;33m\u001b[0m\u001b[1;33m\u001b[0m\u001b[0m\n\u001b[0;32m     38\u001b[0m             \u001b[0mcls\u001b[0m \u001b[1;33m=\u001b[0m \u001b[0mNotFound\u001b[0m\u001b[1;33m\u001b[0m\u001b[1;33m\u001b[0m\u001b[0m\n\u001b[1;32m---> 39\u001b[1;33m     \u001b[1;32mraise\u001b[0m \u001b[0mcls\u001b[0m\u001b[1;33m(\u001b[0m\u001b[0me\u001b[0m\u001b[1;33m,\u001b[0m \u001b[0mresponse\u001b[0m\u001b[1;33m=\u001b[0m\u001b[0mresponse\u001b[0m\u001b[1;33m,\u001b[0m \u001b[0mexplanation\u001b[0m\u001b[1;33m=\u001b[0m\u001b[0mexplanation\u001b[0m\u001b[1;33m)\u001b[0m \u001b[1;32mfrom\u001b[0m \u001b[0me\u001b[0m\u001b[1;33m\u001b[0m\u001b[1;33m\u001b[0m\u001b[0m\n\u001b[0m\u001b[0;32m     40\u001b[0m \u001b[1;33m\u001b[0m\u001b[0m\n\u001b[0;32m     41\u001b[0m \u001b[1;33m\u001b[0m\u001b[0m\n",
      "\u001b[1;31mAPIError\u001b[0m: 500 Server Error for http+docker://localnpipe/v1.41/auth: Internal Server Error (\"login attempt to https://221497708189.dkr.ecr.us-west-2.amazonaws.com/v2/ failed with status: 400 Bad Request\")"
     ]
    }
   ],
   "source": [
    "client = docker.from_env()\n",
    "auth_token = ecr.get_authorization_token()\n",
    "registry = auth_token['authorizationData'][0]['proxyEndpoint']\n",
    "client.login(username='AWS',\n",
    "             password=auth_token['authorizationData'][0]['authorizationToken'],\n",
    "             registry=registry)"
   ]
  },
  {
   "cell_type": "code",
   "execution_count": 72,
   "id": "e9f17f6d",
   "metadata": {},
   "outputs": [],
   "source": [
    "task = ecs.describe_tasks(cluster='superbioai', tasks=[task_arn])['tasks'][0]"
   ]
  },
  {
   "cell_type": "code",
   "execution_count": 95,
   "id": "d7b471a2",
   "metadata": {},
   "outputs": [],
   "source": [
    "container_instance = ecs.describe_container_instances(cluster='superbioai', containerInstances=[task['containerInstanceArn']])['containerInstances'][0]"
   ]
  },
  {
   "cell_type": "code",
   "execution_count": 93,
   "id": "ee48eed7",
   "metadata": {},
   "outputs": [
    {
     "name": "stdout",
     "output_type": "stream",
     "text": [
      "i-05e7eb9a6d5edbf4c\n"
     ]
    }
   ],
   "source": [
    "ec2_instance_id = container_instance['ec2InstanceId']\n",
    "print(ec2_instance_id)"
   ]
  },
  {
   "cell_type": "code",
   "execution_count": 92,
   "id": "4cebd6f1",
   "metadata": {},
   "outputs": [
    {
     "name": "stdout",
     "output_type": "stream",
     "text": [
      "Application-superbioai-production-explorebio\n"
     ]
    }
   ],
   "source": [
    "container_name = task['containers'][0]['name']\n",
    "print(container_name)"
   ]
  },
  {
   "cell_type": "code",
   "execution_count": 109,
   "id": "77fc954d",
   "metadata": {},
   "outputs": [
    {
     "ename": "DockerException",
     "evalue": "Invalid bind address format: port is required: http://ec2-52-204-122-132.compute-1.amazonaws.com/public-alb-superbioai-991982571.us-west-2.elb.amazonaws.com:8000",
     "output_type": "error",
     "traceback": [
      "\u001b[1;31m---------------------------------------------------------------------------\u001b[0m",
      "\u001b[1;31mDockerException\u001b[0m                           Traceback (most recent call last)",
      "\u001b[1;32m~\\AppData\\Local\\Temp\\ipykernel_15152\\1533844115.py\u001b[0m in \u001b[0;36m<module>\u001b[1;34m\u001b[0m\n\u001b[0;32m      3\u001b[0m \u001b[0mec2_generic\u001b[0m \u001b[1;33m=\u001b[0m \u001b[1;34m'http://ec2-52-204-122-132.compute-1.amazonaws.com/'\u001b[0m\u001b[1;33m\u001b[0m\u001b[1;33m\u001b[0m\u001b[0m\n\u001b[0;32m      4\u001b[0m \u001b[0mtest\u001b[0m \u001b[1;33m=\u001b[0m \u001b[1;34m'http://ec2-52-204-122-132.compute-1.amazonaws.com/public-alb-superbioai-991982571.us-west-2.elb.amazonaws.com:8000'\u001b[0m\u001b[1;33m\u001b[0m\u001b[1;33m\u001b[0m\u001b[0m\n\u001b[1;32m----> 5\u001b[1;33m \u001b[0mclient\u001b[0m \u001b[1;33m=\u001b[0m \u001b[0mdocker\u001b[0m\u001b[1;33m.\u001b[0m\u001b[0mDockerClient\u001b[0m\u001b[1;33m(\u001b[0m\u001b[0mbase_url\u001b[0m\u001b[1;33m=\u001b[0m\u001b[0mtest\u001b[0m\u001b[1;33m)\u001b[0m\u001b[1;33m\u001b[0m\u001b[1;33m\u001b[0m\u001b[0m\n\u001b[0m",
      "\u001b[1;32m~\\AppData\\Roaming\\Python\\Python38\\site-packages\\docker\\client.py\u001b[0m in \u001b[0;36m__init__\u001b[1;34m(self, *args, **kwargs)\u001b[0m\n\u001b[0;32m     43\u001b[0m     \"\"\"\n\u001b[0;32m     44\u001b[0m     \u001b[1;32mdef\u001b[0m \u001b[0m__init__\u001b[0m\u001b[1;33m(\u001b[0m\u001b[0mself\u001b[0m\u001b[1;33m,\u001b[0m \u001b[1;33m*\u001b[0m\u001b[0margs\u001b[0m\u001b[1;33m,\u001b[0m \u001b[1;33m**\u001b[0m\u001b[0mkwargs\u001b[0m\u001b[1;33m)\u001b[0m\u001b[1;33m:\u001b[0m\u001b[1;33m\u001b[0m\u001b[1;33m\u001b[0m\u001b[0m\n\u001b[1;32m---> 45\u001b[1;33m         \u001b[0mself\u001b[0m\u001b[1;33m.\u001b[0m\u001b[0mapi\u001b[0m \u001b[1;33m=\u001b[0m \u001b[0mAPIClient\u001b[0m\u001b[1;33m(\u001b[0m\u001b[1;33m*\u001b[0m\u001b[0margs\u001b[0m\u001b[1;33m,\u001b[0m \u001b[1;33m**\u001b[0m\u001b[0mkwargs\u001b[0m\u001b[1;33m)\u001b[0m\u001b[1;33m\u001b[0m\u001b[1;33m\u001b[0m\u001b[0m\n\u001b[0m\u001b[0;32m     46\u001b[0m \u001b[1;33m\u001b[0m\u001b[0m\n\u001b[0;32m     47\u001b[0m     \u001b[1;33m@\u001b[0m\u001b[0mclassmethod\u001b[0m\u001b[1;33m\u001b[0m\u001b[1;33m\u001b[0m\u001b[0m\n",
      "\u001b[1;32m~\\AppData\\Roaming\\Python\\Python38\\site-packages\\docker\\api\\client.py\u001b[0m in \u001b[0;36m__init__\u001b[1;34m(self, base_url, version, timeout, tls, user_agent, num_pools, credstore_env, use_ssh_client, max_pool_size)\u001b[0m\n\u001b[0;32m    134\u001b[0m         \u001b[0mself\u001b[0m\u001b[1;33m.\u001b[0m\u001b[0mcredstore_env\u001b[0m \u001b[1;33m=\u001b[0m \u001b[0mcredstore_env\u001b[0m\u001b[1;33m\u001b[0m\u001b[1;33m\u001b[0m\u001b[0m\n\u001b[0;32m    135\u001b[0m \u001b[1;33m\u001b[0m\u001b[0m\n\u001b[1;32m--> 136\u001b[1;33m         base_url = utils.parse_host(\n\u001b[0m\u001b[0;32m    137\u001b[0m             \u001b[0mbase_url\u001b[0m\u001b[1;33m,\u001b[0m \u001b[0mIS_WINDOWS_PLATFORM\u001b[0m\u001b[1;33m,\u001b[0m \u001b[0mtls\u001b[0m\u001b[1;33m=\u001b[0m\u001b[0mbool\u001b[0m\u001b[1;33m(\u001b[0m\u001b[0mtls\u001b[0m\u001b[1;33m)\u001b[0m\u001b[1;33m\u001b[0m\u001b[1;33m\u001b[0m\u001b[0m\n\u001b[0;32m    138\u001b[0m         )\n",
      "\u001b[1;32m~\\AppData\\Roaming\\Python\\Python38\\site-packages\\docker\\utils\\utils.py\u001b[0m in \u001b[0;36mparse_host\u001b[1;34m(addr, is_win32, tls)\u001b[0m\n\u001b[0;32m    272\u001b[0m         \u001b[1;32mif\u001b[0m \u001b[0mport\u001b[0m \u001b[1;33m<=\u001b[0m \u001b[1;36m0\u001b[0m\u001b[1;33m:\u001b[0m\u001b[1;33m\u001b[0m\u001b[1;33m\u001b[0m\u001b[0m\n\u001b[0;32m    273\u001b[0m             \u001b[1;32mif\u001b[0m \u001b[0mproto\u001b[0m \u001b[1;33m!=\u001b[0m \u001b[1;34m'ssh'\u001b[0m\u001b[1;33m:\u001b[0m\u001b[1;33m\u001b[0m\u001b[1;33m\u001b[0m\u001b[0m\n\u001b[1;32m--> 274\u001b[1;33m                 raise errors.DockerException(\n\u001b[0m\u001b[0;32m    275\u001b[0m                     \u001b[1;34m'Invalid bind address format: port is required:'\u001b[0m\u001b[1;33m\u001b[0m\u001b[1;33m\u001b[0m\u001b[0m\n\u001b[0;32m    276\u001b[0m                     \u001b[1;34m' {}'\u001b[0m\u001b[1;33m.\u001b[0m\u001b[0mformat\u001b[0m\u001b[1;33m(\u001b[0m\u001b[0maddr\u001b[0m\u001b[1;33m)\u001b[0m\u001b[1;33m\u001b[0m\u001b[1;33m\u001b[0m\u001b[0m\n",
      "\u001b[1;31mDockerException\u001b[0m: Invalid bind address format: port is required: http://ec2-52-204-122-132.compute-1.amazonaws.com/public-alb-superbioai-991982571.us-west-2.elb.amazonaws.com:8000"
     ]
    }
   ],
   "source": [
    "service_arn = 'arn:aws:ecs:us-west-2:221497708189:service/superbioai/superbioai-production-explorebio'\n",
    "load_balancer_dns = 'public-alb-superbioai-991982571.us-west-2.elb.amazonaws.com:8000'\n",
    "ec2_generic = 'http://ec2-52-204-122-132.compute-1.amazonaws.com/'\n",
    "client = docker.DockerClient(base_url=ec2_generic + load_balancer_dns)"
   ]
  },
  {
   "cell_type": "code",
   "execution_count": 98,
   "id": "e7f4aa7d",
   "metadata": {
    "scrolled": true
   },
   "outputs": [
    {
     "ename": "NotFound",
     "evalue": "404 Client Error for http+docker://localnpipe/v1.41/containers/Application-superbioai-production-explorebio/json: Not Found (\"No such container: Application-superbioai-production-explorebio\")",
     "output_type": "error",
     "traceback": [
      "\u001b[1;31m---------------------------------------------------------------------------\u001b[0m",
      "\u001b[1;31mHTTPError\u001b[0m                                 Traceback (most recent call last)",
      "\u001b[1;32m~\\AppData\\Roaming\\Python\\Python38\\site-packages\\docker\\api\\client.py\u001b[0m in \u001b[0;36m_raise_for_status\u001b[1;34m(self, response)\u001b[0m\n\u001b[0;32m    267\u001b[0m         \u001b[1;32mtry\u001b[0m\u001b[1;33m:\u001b[0m\u001b[1;33m\u001b[0m\u001b[1;33m\u001b[0m\u001b[0m\n\u001b[1;32m--> 268\u001b[1;33m             \u001b[0mresponse\u001b[0m\u001b[1;33m.\u001b[0m\u001b[0mraise_for_status\u001b[0m\u001b[1;33m(\u001b[0m\u001b[1;33m)\u001b[0m\u001b[1;33m\u001b[0m\u001b[1;33m\u001b[0m\u001b[0m\n\u001b[0m\u001b[0;32m    269\u001b[0m         \u001b[1;32mexcept\u001b[0m \u001b[0mrequests\u001b[0m\u001b[1;33m.\u001b[0m\u001b[0mexceptions\u001b[0m\u001b[1;33m.\u001b[0m\u001b[0mHTTPError\u001b[0m \u001b[1;32mas\u001b[0m \u001b[0me\u001b[0m\u001b[1;33m:\u001b[0m\u001b[1;33m\u001b[0m\u001b[1;33m\u001b[0m\u001b[0m\n",
      "\u001b[1;32mS:\\ProgramData\\Anaconda3\\envs\\scvi_destvi_x\\lib\\site-packages\\requests\\models.py\u001b[0m in \u001b[0;36mraise_for_status\u001b[1;34m(self)\u001b[0m\n\u001b[0;32m   1020\u001b[0m         \u001b[1;32mif\u001b[0m \u001b[0mhttp_error_msg\u001b[0m\u001b[1;33m:\u001b[0m\u001b[1;33m\u001b[0m\u001b[1;33m\u001b[0m\u001b[0m\n\u001b[1;32m-> 1021\u001b[1;33m             \u001b[1;32mraise\u001b[0m \u001b[0mHTTPError\u001b[0m\u001b[1;33m(\u001b[0m\u001b[0mhttp_error_msg\u001b[0m\u001b[1;33m,\u001b[0m \u001b[0mresponse\u001b[0m\u001b[1;33m=\u001b[0m\u001b[0mself\u001b[0m\u001b[1;33m)\u001b[0m\u001b[1;33m\u001b[0m\u001b[1;33m\u001b[0m\u001b[0m\n\u001b[0m\u001b[0;32m   1022\u001b[0m \u001b[1;33m\u001b[0m\u001b[0m\n",
      "\u001b[1;31mHTTPError\u001b[0m: 404 Client Error: Not Found for url: http+docker://localnpipe/v1.41/containers/Application-superbioai-production-explorebio/json",
      "\nThe above exception was the direct cause of the following exception:\n",
      "\u001b[1;31mNotFound\u001b[0m                                  Traceback (most recent call last)",
      "\u001b[1;32m~\\AppData\\Local\\Temp\\ipykernel_15152\\4270721309.py\u001b[0m in \u001b[0;36m<module>\u001b[1;34m\u001b[0m\n\u001b[1;32m----> 1\u001b[1;33m \u001b[0mcontainer\u001b[0m \u001b[1;33m=\u001b[0m \u001b[0mclient\u001b[0m\u001b[1;33m.\u001b[0m\u001b[0mcontainers\u001b[0m\u001b[1;33m.\u001b[0m\u001b[0mget\u001b[0m\u001b[1;33m(\u001b[0m\u001b[0mcontainer_name\u001b[0m\u001b[1;33m)\u001b[0m\u001b[1;33m\u001b[0m\u001b[1;33m\u001b[0m\u001b[0m\n\u001b[0m\u001b[0;32m      2\u001b[0m \u001b[0mprint\u001b[0m\u001b[1;33m(\u001b[0m\u001b[0mcontainer\u001b[0m\u001b[1;33m.\u001b[0m\u001b[0mlogs\u001b[0m\u001b[1;33m(\u001b[0m\u001b[1;33m)\u001b[0m\u001b[1;33m)\u001b[0m\u001b[1;33m\u001b[0m\u001b[1;33m\u001b[0m\u001b[0m\n",
      "\u001b[1;32m~\\AppData\\Roaming\\Python\\Python38\\site-packages\\docker\\models\\containers.py\u001b[0m in \u001b[0;36mget\u001b[1;34m(self, container_id)\u001b[0m\n\u001b[0;32m    923\u001b[0m                 \u001b[0mIf\u001b[0m \u001b[0mthe\u001b[0m \u001b[0mserver\u001b[0m \u001b[0mreturns\u001b[0m \u001b[0man\u001b[0m \u001b[0merror\u001b[0m\u001b[1;33m.\u001b[0m\u001b[1;33m\u001b[0m\u001b[1;33m\u001b[0m\u001b[0m\n\u001b[0;32m    924\u001b[0m         \"\"\"\n\u001b[1;32m--> 925\u001b[1;33m         \u001b[0mresp\u001b[0m \u001b[1;33m=\u001b[0m \u001b[0mself\u001b[0m\u001b[1;33m.\u001b[0m\u001b[0mclient\u001b[0m\u001b[1;33m.\u001b[0m\u001b[0mapi\u001b[0m\u001b[1;33m.\u001b[0m\u001b[0minspect_container\u001b[0m\u001b[1;33m(\u001b[0m\u001b[0mcontainer_id\u001b[0m\u001b[1;33m)\u001b[0m\u001b[1;33m\u001b[0m\u001b[1;33m\u001b[0m\u001b[0m\n\u001b[0m\u001b[0;32m    926\u001b[0m         \u001b[1;32mreturn\u001b[0m \u001b[0mself\u001b[0m\u001b[1;33m.\u001b[0m\u001b[0mprepare_model\u001b[0m\u001b[1;33m(\u001b[0m\u001b[0mresp\u001b[0m\u001b[1;33m)\u001b[0m\u001b[1;33m\u001b[0m\u001b[1;33m\u001b[0m\u001b[0m\n\u001b[0;32m    927\u001b[0m \u001b[1;33m\u001b[0m\u001b[0m\n",
      "\u001b[1;32m~\\AppData\\Roaming\\Python\\Python38\\site-packages\\docker\\utils\\decorators.py\u001b[0m in \u001b[0;36mwrapped\u001b[1;34m(self, resource_id, *args, **kwargs)\u001b[0m\n\u001b[0;32m     17\u001b[0m                     \u001b[1;34m'Resource ID was not provided'\u001b[0m\u001b[1;33m\u001b[0m\u001b[1;33m\u001b[0m\u001b[0m\n\u001b[0;32m     18\u001b[0m                 )\n\u001b[1;32m---> 19\u001b[1;33m             \u001b[1;32mreturn\u001b[0m \u001b[0mf\u001b[0m\u001b[1;33m(\u001b[0m\u001b[0mself\u001b[0m\u001b[1;33m,\u001b[0m \u001b[0mresource_id\u001b[0m\u001b[1;33m,\u001b[0m \u001b[1;33m*\u001b[0m\u001b[0margs\u001b[0m\u001b[1;33m,\u001b[0m \u001b[1;33m**\u001b[0m\u001b[0mkwargs\u001b[0m\u001b[1;33m)\u001b[0m\u001b[1;33m\u001b[0m\u001b[1;33m\u001b[0m\u001b[0m\n\u001b[0m\u001b[0;32m     20\u001b[0m         \u001b[1;32mreturn\u001b[0m \u001b[0mwrapped\u001b[0m\u001b[1;33m\u001b[0m\u001b[1;33m\u001b[0m\u001b[0m\n\u001b[0;32m     21\u001b[0m     \u001b[1;32mreturn\u001b[0m \u001b[0mdecorator\u001b[0m\u001b[1;33m\u001b[0m\u001b[1;33m\u001b[0m\u001b[0m\n",
      "\u001b[1;32m~\\AppData\\Roaming\\Python\\Python38\\site-packages\\docker\\api\\container.py\u001b[0m in \u001b[0;36minspect_container\u001b[1;34m(self, container)\u001b[0m\n\u001b[0;32m    781\u001b[0m                 \u001b[0mIf\u001b[0m \u001b[0mthe\u001b[0m \u001b[0mserver\u001b[0m \u001b[0mreturns\u001b[0m \u001b[0man\u001b[0m \u001b[0merror\u001b[0m\u001b[1;33m.\u001b[0m\u001b[1;33m\u001b[0m\u001b[1;33m\u001b[0m\u001b[0m\n\u001b[0;32m    782\u001b[0m         \"\"\"\n\u001b[1;32m--> 783\u001b[1;33m         return self._result(\n\u001b[0m\u001b[0;32m    784\u001b[0m             \u001b[0mself\u001b[0m\u001b[1;33m.\u001b[0m\u001b[0m_get\u001b[0m\u001b[1;33m(\u001b[0m\u001b[0mself\u001b[0m\u001b[1;33m.\u001b[0m\u001b[0m_url\u001b[0m\u001b[1;33m(\u001b[0m\u001b[1;34m\"/containers/{0}/json\"\u001b[0m\u001b[1;33m,\u001b[0m \u001b[0mcontainer\u001b[0m\u001b[1;33m)\u001b[0m\u001b[1;33m)\u001b[0m\u001b[1;33m,\u001b[0m \u001b[1;32mTrue\u001b[0m\u001b[1;33m\u001b[0m\u001b[1;33m\u001b[0m\u001b[0m\n\u001b[0;32m    785\u001b[0m         )\n",
      "\u001b[1;32m~\\AppData\\Roaming\\Python\\Python38\\site-packages\\docker\\api\\client.py\u001b[0m in \u001b[0;36m_result\u001b[1;34m(self, response, json, binary)\u001b[0m\n\u001b[0;32m    272\u001b[0m     \u001b[1;32mdef\u001b[0m \u001b[0m_result\u001b[0m\u001b[1;33m(\u001b[0m\u001b[0mself\u001b[0m\u001b[1;33m,\u001b[0m \u001b[0mresponse\u001b[0m\u001b[1;33m,\u001b[0m \u001b[0mjson\u001b[0m\u001b[1;33m=\u001b[0m\u001b[1;32mFalse\u001b[0m\u001b[1;33m,\u001b[0m \u001b[0mbinary\u001b[0m\u001b[1;33m=\u001b[0m\u001b[1;32mFalse\u001b[0m\u001b[1;33m)\u001b[0m\u001b[1;33m:\u001b[0m\u001b[1;33m\u001b[0m\u001b[1;33m\u001b[0m\u001b[0m\n\u001b[0;32m    273\u001b[0m         \u001b[1;32massert\u001b[0m \u001b[1;32mnot\u001b[0m \u001b[1;33m(\u001b[0m\u001b[0mjson\u001b[0m \u001b[1;32mand\u001b[0m \u001b[0mbinary\u001b[0m\u001b[1;33m)\u001b[0m\u001b[1;33m\u001b[0m\u001b[1;33m\u001b[0m\u001b[0m\n\u001b[1;32m--> 274\u001b[1;33m         \u001b[0mself\u001b[0m\u001b[1;33m.\u001b[0m\u001b[0m_raise_for_status\u001b[0m\u001b[1;33m(\u001b[0m\u001b[0mresponse\u001b[0m\u001b[1;33m)\u001b[0m\u001b[1;33m\u001b[0m\u001b[1;33m\u001b[0m\u001b[0m\n\u001b[0m\u001b[0;32m    275\u001b[0m \u001b[1;33m\u001b[0m\u001b[0m\n\u001b[0;32m    276\u001b[0m         \u001b[1;32mif\u001b[0m \u001b[0mjson\u001b[0m\u001b[1;33m:\u001b[0m\u001b[1;33m\u001b[0m\u001b[1;33m\u001b[0m\u001b[0m\n",
      "\u001b[1;32m~\\AppData\\Roaming\\Python\\Python38\\site-packages\\docker\\api\\client.py\u001b[0m in \u001b[0;36m_raise_for_status\u001b[1;34m(self, response)\u001b[0m\n\u001b[0;32m    268\u001b[0m             \u001b[0mresponse\u001b[0m\u001b[1;33m.\u001b[0m\u001b[0mraise_for_status\u001b[0m\u001b[1;33m(\u001b[0m\u001b[1;33m)\u001b[0m\u001b[1;33m\u001b[0m\u001b[1;33m\u001b[0m\u001b[0m\n\u001b[0;32m    269\u001b[0m         \u001b[1;32mexcept\u001b[0m \u001b[0mrequests\u001b[0m\u001b[1;33m.\u001b[0m\u001b[0mexceptions\u001b[0m\u001b[1;33m.\u001b[0m\u001b[0mHTTPError\u001b[0m \u001b[1;32mas\u001b[0m \u001b[0me\u001b[0m\u001b[1;33m:\u001b[0m\u001b[1;33m\u001b[0m\u001b[1;33m\u001b[0m\u001b[0m\n\u001b[1;32m--> 270\u001b[1;33m             \u001b[1;32mraise\u001b[0m \u001b[0mcreate_api_error_from_http_exception\u001b[0m\u001b[1;33m(\u001b[0m\u001b[0me\u001b[0m\u001b[1;33m)\u001b[0m \u001b[1;32mfrom\u001b[0m \u001b[0me\u001b[0m\u001b[1;33m\u001b[0m\u001b[1;33m\u001b[0m\u001b[0m\n\u001b[0m\u001b[0;32m    271\u001b[0m \u001b[1;33m\u001b[0m\u001b[0m\n\u001b[0;32m    272\u001b[0m     \u001b[1;32mdef\u001b[0m \u001b[0m_result\u001b[0m\u001b[1;33m(\u001b[0m\u001b[0mself\u001b[0m\u001b[1;33m,\u001b[0m \u001b[0mresponse\u001b[0m\u001b[1;33m,\u001b[0m \u001b[0mjson\u001b[0m\u001b[1;33m=\u001b[0m\u001b[1;32mFalse\u001b[0m\u001b[1;33m,\u001b[0m \u001b[0mbinary\u001b[0m\u001b[1;33m=\u001b[0m\u001b[1;32mFalse\u001b[0m\u001b[1;33m)\u001b[0m\u001b[1;33m:\u001b[0m\u001b[1;33m\u001b[0m\u001b[1;33m\u001b[0m\u001b[0m\n",
      "\u001b[1;32m~\\AppData\\Roaming\\Python\\Python38\\site-packages\\docker\\errors.py\u001b[0m in \u001b[0;36mcreate_api_error_from_http_exception\u001b[1;34m(e)\u001b[0m\n\u001b[0;32m     37\u001b[0m         \u001b[1;32melse\u001b[0m\u001b[1;33m:\u001b[0m\u001b[1;33m\u001b[0m\u001b[1;33m\u001b[0m\u001b[0m\n\u001b[0;32m     38\u001b[0m             \u001b[0mcls\u001b[0m \u001b[1;33m=\u001b[0m \u001b[0mNotFound\u001b[0m\u001b[1;33m\u001b[0m\u001b[1;33m\u001b[0m\u001b[0m\n\u001b[1;32m---> 39\u001b[1;33m     \u001b[1;32mraise\u001b[0m \u001b[0mcls\u001b[0m\u001b[1;33m(\u001b[0m\u001b[0me\u001b[0m\u001b[1;33m,\u001b[0m \u001b[0mresponse\u001b[0m\u001b[1;33m=\u001b[0m\u001b[0mresponse\u001b[0m\u001b[1;33m,\u001b[0m \u001b[0mexplanation\u001b[0m\u001b[1;33m=\u001b[0m\u001b[0mexplanation\u001b[0m\u001b[1;33m)\u001b[0m \u001b[1;32mfrom\u001b[0m \u001b[0me\u001b[0m\u001b[1;33m\u001b[0m\u001b[1;33m\u001b[0m\u001b[0m\n\u001b[0m\u001b[0;32m     40\u001b[0m \u001b[1;33m\u001b[0m\u001b[0m\n\u001b[0;32m     41\u001b[0m \u001b[1;33m\u001b[0m\u001b[0m\n",
      "\u001b[1;31mNotFound\u001b[0m: 404 Client Error for http+docker://localnpipe/v1.41/containers/Application-superbioai-production-explorebio/json: Not Found (\"No such container: Application-superbioai-production-explorebio\")"
     ]
    }
   ],
   "source": [
    "container = client.containers.get(container_name)\n",
    "print(container.logs())"
   ]
  },
  {
   "cell_type": "code",
   "execution_count": 62,
   "id": "a1b7080c",
   "metadata": {
    "collapsed": true
   },
   "outputs": [
    {
     "data": {
      "text/plain": [
       "{'attachments': [],\n",
       " 'attributes': [{'name': 'ecs.cpu-architecture', 'value': 'x86_64'}],\n",
       " 'availabilityZone': 'us-west-2a',\n",
       " 'clusterArn': 'arn:aws:ecs:us-west-2:221497708189:cluster/superbioai',\n",
       " 'connectivity': 'CONNECTED',\n",
       " 'connectivityAt': datetime.datetime(2023, 12, 5, 14, 10, 57, 965000, tzinfo=tzlocal()),\n",
       " 'containerInstanceArn': 'arn:aws:ecs:us-west-2:221497708189:container-instance/superbioai/35a274004e574b4d9024a2e3897212b4',\n",
       " 'containers': [{'containerArn': 'arn:aws:ecs:us-west-2:221497708189:container/superbioai/3a376234dbe04e2c8353a9929f3b4fc0/1e2eb549-1ce2-41ee-b4f4-4b28801b1620',\n",
       "   'taskArn': 'arn:aws:ecs:us-west-2:221497708189:task/superbioai/3a376234dbe04e2c8353a9929f3b4fc0',\n",
       "   'name': 'Application-superbioai-production-explorebio',\n",
       "   'image': '221497708189.dkr.ecr.us-west-2.amazonaws.com/superbioai-production-explorebio:1701438',\n",
       "   'imageDigest': 'sha256:82821402448ddd43797161ec37b926934634d7fcf5f2f1d4897671324c67cc8a',\n",
       "   'runtimeId': '58c4a624fdea2d3b813ea10d32ce393e32edd93f6f3aae501686219b04d6c97c',\n",
       "   'lastStatus': 'RUNNING',\n",
       "   'networkBindings': [{'bindIP': '0.0.0.0',\n",
       "     'containerPort': 8000,\n",
       "     'hostPort': 32852,\n",
       "     'protocol': 'tcp'}],\n",
       "   'networkInterfaces': [],\n",
       "   'healthStatus': 'UNKNOWN',\n",
       "   'cpu': '1024',\n",
       "   'memory': '15360',\n",
       "   'memoryReservation': '1024'}],\n",
       " 'cpu': '3072',\n",
       " 'createdAt': datetime.datetime(2023, 12, 5, 14, 10, 57, 965000, tzinfo=tzlocal()),\n",
       " 'desiredStatus': 'RUNNING',\n",
       " 'enableExecuteCommand': False,\n",
       " 'group': 'service:superbioai-production-explorebio',\n",
       " 'healthStatus': 'UNKNOWN',\n",
       " 'lastStatus': 'RUNNING',\n",
       " 'launchType': 'EC2',\n",
       " 'memory': '1024',\n",
       " 'overrides': {'containerOverrides': [{'name': 'Application-superbioai-production-explorebio'}],\n",
       "  'inferenceAcceleratorOverrides': []},\n",
       " 'pullStartedAt': datetime.datetime(2023, 12, 5, 14, 10, 59, 747000, tzinfo=tzlocal()),\n",
       " 'pullStoppedAt': datetime.datetime(2023, 12, 5, 14, 10, 59, 922000, tzinfo=tzlocal()),\n",
       " 'startedAt': datetime.datetime(2023, 12, 5, 14, 11, 15, 759000, tzinfo=tzlocal()),\n",
       " 'startedBy': 'ecs-svc/2698769161915984279',\n",
       " 'tags': [],\n",
       " 'taskArn': 'arn:aws:ecs:us-west-2:221497708189:task/superbioai/3a376234dbe04e2c8353a9929f3b4fc0',\n",
       " 'taskDefinitionArn': 'arn:aws:ecs:us-west-2:221497708189:task-definition/superbioai-production-explorebio:98',\n",
       " 'version': 3}"
      ]
     },
     "execution_count": 62,
     "metadata": {},
     "output_type": "execute_result"
    }
   ],
   "source": [
    "print(temp['tasks'][0]['containerInstanceArn'])\n",
    "\n",
    "\n",
    "#['containers'][0]"
   ]
  },
  {
   "cell_type": "code",
   "execution_count": 56,
   "id": "28fc26e0",
   "metadata": {
    "collapsed": true
   },
   "outputs": [
    {
     "ename": "KeyError",
     "evalue": "'dockerId'",
     "output_type": "error",
     "traceback": [
      "\u001b[1;31m---------------------------------------------------------------------------\u001b[0m",
      "\u001b[1;31mKeyError\u001b[0m                                  Traceback (most recent call last)",
      "\u001b[1;32m~\\AppData\\Local\\Temp\\ipykernel_15152\\2374997061.py\u001b[0m in \u001b[0;36m<module>\u001b[1;34m\u001b[0m\n\u001b[0;32m      2\u001b[0m task_arn = ecs.list_tasks(cluster='superbioai',\n\u001b[0;32m      3\u001b[0m                 serviceName='superbioai-production-explorebio')['taskArns'][0]\n\u001b[1;32m----> 4\u001b[1;33m \u001b[0mcontainer_id\u001b[0m \u001b[1;33m=\u001b[0m \u001b[0mecs\u001b[0m\u001b[1;33m.\u001b[0m\u001b[0mdescribe_tasks\u001b[0m\u001b[1;33m(\u001b[0m\u001b[0mcluster\u001b[0m\u001b[1;33m=\u001b[0m\u001b[1;34m'superbioai'\u001b[0m\u001b[1;33m,\u001b[0m \u001b[0mtasks\u001b[0m\u001b[1;33m=\u001b[0m\u001b[1;33m[\u001b[0m\u001b[0mtask_arn\u001b[0m\u001b[1;33m]\u001b[0m\u001b[1;33m)\u001b[0m\u001b[1;33m[\u001b[0m\u001b[1;34m'tasks'\u001b[0m\u001b[1;33m]\u001b[0m\u001b[1;33m[\u001b[0m\u001b[1;36m0\u001b[0m\u001b[1;33m]\u001b[0m\u001b[1;33m[\u001b[0m\u001b[1;34m'containers'\u001b[0m\u001b[1;33m]\u001b[0m\u001b[1;33m[\u001b[0m\u001b[1;36m0\u001b[0m\u001b[1;33m]\u001b[0m\u001b[1;33m[\u001b[0m\u001b[1;34m'dockerId'\u001b[0m\u001b[1;33m]\u001b[0m\u001b[1;33m\u001b[0m\u001b[1;33m\u001b[0m\u001b[0m\n\u001b[0m\u001b[0;32m      5\u001b[0m \u001b[0mcontainer\u001b[0m \u001b[1;33m=\u001b[0m \u001b[0mclient\u001b[0m\u001b[1;33m.\u001b[0m\u001b[0mcontainers\u001b[0m\u001b[1;33m.\u001b[0m\u001b[0mget\u001b[0m\u001b[1;33m(\u001b[0m\u001b[0mcontainer_id\u001b[0m\u001b[1;33m)\u001b[0m\u001b[1;33m\u001b[0m\u001b[1;33m\u001b[0m\u001b[0m\n",
      "\u001b[1;31mKeyError\u001b[0m: 'dockerId'"
     ]
    }
   ],
   "source": [
    "client = docker.from_env()\n",
    "task_arn = ecs.list_tasks(cluster='superbioai',\n",
    "                serviceName='superbioai-production-explorebio')['taskArns'][0]\n",
    "container_id = ecs.describe_tasks(cluster='superbioai', tasks=[task_arn])['tasks'][0]['containers'][0]['dockerId']\n",
    "container = client.containers.get(container_id)"
   ]
  },
  {
   "cell_type": "code",
   "execution_count": null,
   "id": "ff5d934c",
   "metadata": {},
   "outputs": [],
   "source": [
    "print(container.logs())"
   ]
  }
 ],
 "metadata": {
  "kernelspec": {
   "display_name": "Python 3 (ipykernel)",
   "language": "python",
   "name": "python3"
  },
  "language_info": {
   "codemirror_mode": {
    "name": "ipython",
    "version": 3
   },
   "file_extension": ".py",
   "mimetype": "text/x-python",
   "name": "python",
   "nbconvert_exporter": "python",
   "pygments_lexer": "ipython3",
   "version": "3.8.15"
  }
 },
 "nbformat": 4,
 "nbformat_minor": 5
}
